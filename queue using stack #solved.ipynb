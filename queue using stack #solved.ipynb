{
 "cells": [
  {
   "cell_type": "code",
   "execution_count": 37,
   "metadata": {},
   "outputs": [],
   "source": [
    "class Queue:\n",
    "    def __init__(self):\n",
    "        self.stack = []\n",
    "        self.queue = []\n",
    "    \n",
    "    def enqueue(self, val):\n",
    "        self.queue.append(val)\n",
    "    \n",
    "    def dequeue(self):\n",
    "        if not self.queue:\n",
    "            return \"Queue is already empty!\"\n",
    "        \n",
    "        while self.queue:\n",
    "            self.stack.append(self.queue.pop())\n",
    "        \n",
    "        pop = self.stack.pop()\n",
    "        \n",
    "        while self.stack:\n",
    "            self.queue.append(self.stack.pop())\n",
    "        \n",
    "        return pop"
   ]
  }
 ],
 "metadata": {
  "kernelspec": {
   "display_name": "Python 3",
   "language": "python",
   "name": "python3"
  },
  "language_info": {
   "codemirror_mode": {
    "name": "ipython",
    "version": 3
   },
   "file_extension": ".py",
   "mimetype": "text/x-python",
   "name": "python",
   "nbconvert_exporter": "python",
   "pygments_lexer": "ipython3",
   "version": "3.7.3"
  }
 },
 "nbformat": 4,
 "nbformat_minor": 2
}
