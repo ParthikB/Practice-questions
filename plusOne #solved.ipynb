{
  "nbformat": 4,
  "nbformat_minor": 0,
  "metadata": {
    "colab": {
      "name": "Backtracking N-queen",
      "provenance": [],
      "include_colab_link": true
    },
    "kernelspec": {
      "name": "python3",
      "display_name": "Python 3"
    },
    "accelerator": "GPU"
  },
  "cells": [
    {
      "cell_type": "markdown",
      "metadata": {
        "id": "view-in-github",
        "colab_type": "text"
      },
      "source": [
        "<a href=\"https://colab.research.google.com/github/ParthikB/Practice-questions/blob/master/plusOne%20%23solved.ipynb\" target=\"_parent\"><img src=\"https://colab.research.google.com/assets/colab-badge.svg\" alt=\"Open In Colab\"/></a>"
      ]
    },
    {
      "cell_type": "code",
      "metadata": {
        "id": "ukxqBXU2w_hz",
        "colab_type": "code",
        "colab": {}
      },
      "source": [
        "\"\"\"\n",
        "Given a non-empty array of digits representing a non-negative integer, plus one to the integer.\n",
        "\n",
        "The digits are stored such that the most significant digit is at the head of the list, and each element in the array contain a single digit.\n",
        "\n",
        "You may assume the integer does not contain any leading zero, except the number 0 itself.\n",
        "\n",
        "Example 1:\n",
        "\n",
        "Input: [1,9,9]\n",
        "Output: [1,2,4]\n",
        "Explanation: The array represents the integer 123.\n",
        "\n",
        "\"\"\""
      ],
      "execution_count": 0,
      "outputs": []
    },
    {
      "cell_type": "code",
      "metadata": {
        "id": "9si-NBcZskvC",
        "colab_type": "code",
        "colab": {}
      },
      "source": [
        "from collections import deque\n",
        "\n",
        "class Solution:\n",
        "    def plusOne(self, digits):\n",
        "      digits = deque(digits)\n",
        "      \n",
        "      if digits[-1] != 9:\n",
        "        digits[-1] += 1\n",
        "      else:\n",
        "        carry = 1\n",
        "        i = len(digits)-1\n",
        "        \n",
        "        while carry > 0:\n",
        "          _sum = digits[i] + carry\n",
        "          if _sum > 9:              \n",
        "            _sum = 0\n",
        "            carry = 1\n",
        "            if i == 0:\n",
        "              digits[i] = _sum\n",
        "              digits.appendleft(1)\n",
        "              return list(digits)\n",
        "          else:\n",
        "            carry = 0\n",
        "          \n",
        "          digits[i] = _sum\n",
        "          i -= 1\n",
        "      \n",
        "      return list(digits)"
      ],
      "execution_count": 0,
      "outputs": []
    },
    {
      "cell_type": "code",
      "metadata": {
        "id": "hofVbU9JvcCx",
        "colab_type": "code",
        "colab": {
          "base_uri": "https://localhost:8080/",
          "height": 35
        },
        "outputId": "a6226467-e215-483c-8bdd-43c7e4b8afe8"
      },
      "source": [
        "s = Solution()\n",
        "\n",
        "s.plusOne([9])"
      ],
      "execution_count": 25,
      "outputs": [
        {
          "output_type": "execute_result",
          "data": {
            "text/plain": [
              "[1, 0]"
            ]
          },
          "metadata": {
            "tags": []
          },
          "execution_count": 25
        }
      ]
    },
    {
      "cell_type": "code",
      "metadata": {
        "id": "6rIcL_S4vlJu",
        "colab_type": "code",
        "colab": {}
      },
      "source": [
        ""
      ],
      "execution_count": 0,
      "outputs": []
    }
  ]
}