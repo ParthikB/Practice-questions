{
 "cells": [
  {
   "cell_type": "code",
   "execution_count": 35,
   "metadata": {},
   "outputs": [],
   "source": [
    "class Node:\n",
    "    def __init__(self, val):\n",
    "        self.val = val\n",
    "        self.left_child = None\n",
    "        self.right_child = None\n",
    "        \n",
    "class BST:\n",
    "    def __init__(self, root=None):\n",
    "        self.root = root\n",
    "\n",
    "    \n",
    "    def insert(self, val):\n",
    "        if not self.root:\n",
    "            self.root = val\n",
    "        else:\n",
    "            cur = self.root\n",
    "            self._insert(cur, val)\n",
    "        \n",
    "    def _insert(self, cur, node):\n",
    "        \n",
    "        if cur.val > node.val:\n",
    "            if cur.left_child:\n",
    "                self._insert(cur.left_child, node)\n",
    "            else:\n",
    "                cur.left_child = node\n",
    "        elif cur.val < node.val:\n",
    "            if cur.right_child:\n",
    "                self._insert(cur.right_child, node)\n",
    "            else:\n",
    "                cur.right_child = node\n",
    "        else:\n",
    "            print(\"Node already exists!\")\n",
    "            \n",
    "    \n",
    "    def second_largest(self):\n",
    "        cur = self.root        \n",
    "        \n",
    "        if not cur.right_child:\n",
    "            if not cur.left_child:\n",
    "                apology = input(\"The only node in the tree is the root. Bitch how am I supposed to find the second largest node??!\")\n",
    "                if apology.lower() == \"sorry\":\n",
    "                    return \"It's ok.\"\n",
    "                return \"Fuck off!\"\n",
    "            return cur.left_child.val\n",
    "        \n",
    "        while cur.right_child:\n",
    "            parent = cur\n",
    "            cur = cur.right_child\n",
    "            \n",
    "        if cur.left_child:\n",
    "            cur = cur.left_child\n",
    "            while cur.right_child:\n",
    "                cur = cur.right_child\n",
    "            return cur.val\n",
    "        \n",
    "        else:\n",
    "            return parent.val\n",
    "        \n",
    "    master = \"\"        \n",
    "    def print_tree(self):\n",
    "        if self.root:\n",
    "            master = self._print_tree(self.root)\n",
    "            return master\n",
    "\n",
    "    def _print_tree(self, cur):\n",
    "        if cur != None:\n",
    "            self.master += str(cur.val) + \"-\"\n",
    "            self._print_tree(cur.left_child)\n",
    "            self._print_tree(cur.right_child)\n",
    "        return (self.master[:-1]) #scraping the last dash (-)\n",
    "        \n",
    "    "
   ]
  },
  {
   "cell_type": "code",
   "execution_count": 36,
   "metadata": {},
   "outputs": [],
   "source": [
    "bst = BST()\n",
    "bst.insert(Node(10))\n",
    "bst.insert(Node(1))\n",
    "bst.insert(Node(20))\n",
    "bst.insert(Node(30))\n",
    "bst.insert(Node(25))\n",
    "bst.insert(Node(23))\n",
    "bst.insert(Node(28))\n",
    "bst.insert(Node(27))\n",
    "bst.insert(Node(29))"
   ]
  },
  {
   "cell_type": "code",
   "execution_count": 37,
   "metadata": {},
   "outputs": [
    {
     "data": {
      "text/plain": [
       "29"
      ]
     },
     "execution_count": 37,
     "metadata": {},
     "output_type": "execute_result"
    }
   ],
   "source": [
    "bst.second_largest()"
   ]
  },
  {
   "cell_type": "code",
   "execution_count": 38,
   "metadata": {},
   "outputs": [],
   "source": [
    "bst.root.right_child.left_child = Node([ 13, 14])"
   ]
  },
  {
   "cell_type": "code",
   "execution_count": 39,
   "metadata": {},
   "outputs": [
    {
     "data": {
      "text/plain": [
       "[13, 14]"
      ]
     },
     "execution_count": 39,
     "metadata": {},
     "output_type": "execute_result"
    }
   ],
   "source": [
    "bst.root.right_child.left_child.val"
   ]
  },
  {
   "cell_type": "code",
   "execution_count": 40,
   "metadata": {},
   "outputs": [
    {
     "data": {
      "text/plain": [
       "'10-1-20-[13, 14]-30-25-23-28-27-29'"
      ]
     },
     "execution_count": 40,
     "metadata": {},
     "output_type": "execute_result"
    }
   ],
   "source": [
    "bst.print_tree()"
   ]
  },
  {
   "cell_type": "code",
   "execution_count": null,
   "metadata": {},
   "outputs": [],
   "source": []
  }
 ],
 "metadata": {
  "kernelspec": {
   "display_name": "Python 3",
   "language": "python",
   "name": "python3"
  },
  "language_info": {
   "codemirror_mode": {
    "name": "ipython",
    "version": 3
   },
   "file_extension": ".py",
   "mimetype": "text/x-python",
   "name": "python",
   "nbconvert_exporter": "python",
   "pygments_lexer": "ipython3",
   "version": "3.7.3"
  }
 },
 "nbformat": 4,
 "nbformat_minor": 2
}
