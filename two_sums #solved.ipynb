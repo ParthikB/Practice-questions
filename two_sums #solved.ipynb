{
  "nbformat": 4,
  "nbformat_minor": 0,
  "metadata": {
    "colab": {
      "name": "two sums_LC #solved",
      "provenance": [],
      "include_colab_link": true
    },
    "kernelspec": {
      "name": "python3",
      "display_name": "Python 3"
    },
    "accelerator": "GPU"
  },
  "cells": [
    {
      "cell_type": "markdown",
      "metadata": {
        "id": "view-in-github",
        "colab_type": "text"
      },
      "source": [
        "<a href=\"https://colab.research.google.com/github/ParthikB/Practice-questions/blob/master/two_sums%20%23solved.ipynb\" target=\"_parent\"><img src=\"https://colab.research.google.com/assets/colab-badge.svg\" alt=\"Open In Colab\"/></a>"
      ]
    },
    {
      "cell_type": "code",
      "metadata": {
        "id": "TlFpQ0OMi1EK",
        "colab_type": "code",
        "colab": {}
      },
      "source": [
        "class Solution:\n",
        "    def twoSum(self, arr, target):\n",
        "        _map = {}\n",
        "\n",
        "        for i in range(len(arr)):\n",
        "            _map[arr[i]] = i\n",
        "\n",
        "        for i in range(len(arr)):\n",
        "            compliment = target - arr[i]\n",
        "            if _map.get(compliment) != None:\n",
        "                if _map[compliment] != i:\n",
        "                    return [min(_map[compliment], i), max(_map[compliment], i)]"
      ],
      "execution_count": 0,
      "outputs": []
    },
    {
      "cell_type": "code",
      "metadata": {
        "id": "olkU55QKmo94",
        "colab_type": "code",
        "colab": {}
      },
      "source": [
        "arr    = [5, 8, 0, 4, 2, -4, 2]\n",
        "target = 4"
      ],
      "execution_count": 0,
      "outputs": []
    },
    {
      "cell_type": "code",
      "metadata": {
        "id": "eK2FZMB4mzv6",
        "colab_type": "code",
        "colab": {
          "base_uri": "https://localhost:8080/",
          "height": 34
        },
        "outputId": "4d4cd7cf-3900-447e-eebd-23807a42b8a4"
      },
      "source": [
        "sol = Solution()\n",
        "sol.twoSum(arr, target)"
      ],
      "execution_count": 32,
      "outputs": [
        {
          "output_type": "execute_result",
          "data": {
            "text/plain": [
              "[1, 5]"
            ]
          },
          "metadata": {
            "tags": []
          },
          "execution_count": 32
        }
      ]
    },
    {
      "cell_type": "code",
      "metadata": {
        "id": "HJ0t5eCLm3oS",
        "colab_type": "code",
        "colab": {}
      },
      "source": [
        ""
      ],
      "execution_count": 0,
      "outputs": []
    }
  ]
}