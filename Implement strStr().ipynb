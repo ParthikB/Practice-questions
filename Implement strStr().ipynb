{
  "nbformat": 4,
  "nbformat_minor": 0,
  "metadata": {
    "colab": {
      "name": "leetCode",
      "provenance": [],
      "collapsed_sections": [],
      "include_colab_link": true
    },
    "kernelspec": {
      "name": "python3",
      "display_name": "Python 3"
    },
    "accelerator": "GPU"
  },
  "cells": [
    {
      "cell_type": "markdown",
      "metadata": {
        "id": "view-in-github",
        "colab_type": "text"
      },
      "source": [
        "<a href=\"https://colab.research.google.com/github/ParthikB/Practice-questions/blob/master/Implement%20strStr().ipynb\" target=\"_parent\"><img src=\"https://colab.research.google.com/assets/colab-badge.svg\" alt=\"Open In Colab\"/></a>"
      ]
    },
    {
      "cell_type": "code",
      "metadata": {
        "id": "4suE95ynENtv",
        "colab_type": "code",
        "outputId": "71bf1ecd-1b63-492b-f0cc-f42b65dacd78",
        "colab": {
          "base_uri": "https://localhost:8080/",
          "height": 34
        }
      },
      "source": [
        "\"\"\"\n",
        "Return the index of the first occurrence of needle in haystack, or -1 if needle is not part of haystack.\n",
        "\n",
        "\"\"\""
      ],
      "execution_count": 1,
      "outputs": [
        {
          "output_type": "execute_result",
          "data": {
            "text/plain": [
              "'\\nReturn the index of the first occurrence of needle in haystack, or -1 if needle is not part of haystack.\\n\\n'"
            ]
          },
          "metadata": {
            "tags": []
          },
          "execution_count": 1
        }
      ]
    },
    {
      "cell_type": "code",
      "metadata": {
        "id": "N5ildcahHLrI",
        "colab_type": "code",
        "colab": {}
      },
      "source": [
        "def strStr(hay, needle):\n",
        "  if not needle:\n",
        "    return 0\n",
        "  elif needle in hay:\n",
        "    return hay.index(needle)\n",
        "  else:\n",
        "    return -1\n"
      ],
      "execution_count": 0,
      "outputs": []
    },
    {
      "cell_type": "code",
      "metadata": {
        "id": "hH0doswtH_Zd",
        "colab_type": "code",
        "colab": {
          "base_uri": "https://localhost:8080/",
          "height": 34
        },
        "outputId": "363b535f-b7cc-499e-c599-7cafbd9c10eb"
      },
      "source": [
        "strStr(\"aaaaa\", \"ba\")"
      ],
      "execution_count": 15,
      "outputs": [
        {
          "output_type": "execute_result",
          "data": {
            "text/plain": [
              "-1"
            ]
          },
          "metadata": {
            "tags": []
          },
          "execution_count": 15
        }
      ]
    }
  ]
}