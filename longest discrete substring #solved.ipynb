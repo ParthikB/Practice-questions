{
 "cells": [
  {
   "cell_type": "markdown",
   "metadata": {},
   "source": [
    "#### You are given a string s, and an integer k. Return the length of the longest substring in s that contains at most k distinct characters.\n",
    "\n",
    "For instance, given the string:\n",
    "aabcdefff and k = 3, then the longest substring with 3 distinct characters would be defff. The answer should be 5"
   ]
  },
  {
   "cell_type": "code",
   "execution_count": 114,
   "metadata": {},
   "outputs": [],
   "source": [
    "def solution(s):\n",
    "    master = [s[0]]\n",
    "    max_len = 0 \n",
    "    i, j = 0, 1\n",
    "    counter = 1\n",
    "    while j < len(s):\n",
    "\n",
    "        if counter > 3:\n",
    "            master = [s[i+1]]\n",
    "            i += 1\n",
    "            j = i + 1\n",
    "            _len = 1\n",
    "            counter = 1\n",
    "\n",
    "        if s[j] not in master:\n",
    "            counter += 1\n",
    "        else:\n",
    "            i += 1\n",
    "\n",
    "        master.append(s[j])\n",
    "        j += 1\n",
    "\n",
    "        if counter == 3:\n",
    "            max_len = max(max_len, len(master))\n",
    "    \n",
    "    return max_len"
   ]
  },
  {
   "cell_type": "code",
   "execution_count": 115,
   "metadata": {},
   "outputs": [
    {
     "data": {
      "text/plain": [
       "12"
      ]
     },
     "execution_count": 115,
     "metadata": {},
     "output_type": "execute_result"
    }
   ],
   "source": [
    "s = 'aaabccccccccdeff'\n",
    "\n",
    "solution(s)"
   ]
  },
  {
   "cell_type": "code",
   "execution_count": null,
   "metadata": {},
   "outputs": [],
   "source": []
  }
 ],
 "metadata": {
  "kernelspec": {
   "display_name": "Python 3",
   "language": "python",
   "name": "python3"
  },
  "language_info": {
   "codemirror_mode": {
    "name": "ipython",
    "version": 3
   },
   "file_extension": ".py",
   "mimetype": "text/x-python",
   "name": "python",
   "nbconvert_exporter": "python",
   "pygments_lexer": "ipython3",
   "version": "3.7.3"
  }
 },
 "nbformat": 4,
 "nbformat_minor": 2
}
