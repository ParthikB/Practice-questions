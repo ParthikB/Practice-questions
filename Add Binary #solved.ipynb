{
  "nbformat": 4,
  "nbformat_minor": 0,
  "metadata": {
    "colab": {
      "name": "Add Binary",
      "provenance": [],
      "collapsed_sections": [],
      "include_colab_link": true
    },
    "kernelspec": {
      "name": "python3",
      "display_name": "Python 3"
    }
  },
  "cells": [
    {
      "cell_type": "markdown",
      "metadata": {
        "id": "view-in-github",
        "colab_type": "text"
      },
      "source": [
        "<a href=\"https://colab.research.google.com/github/ParthikB/Practice-questions/blob/master/Add%20Binary%20%23solved.ipynb\" target=\"_parent\"><img src=\"https://colab.research.google.com/assets/colab-badge.svg\" alt=\"Open In Colab\"/></a>"
      ]
    },
    {
      "cell_type": "code",
      "metadata": {
        "id": "DXk4jWg3sPpf",
        "colab_type": "code",
        "colab": {}
      },
      "source": [
        "\"\"\"\n",
        "\n",
        "  Given two binary strings, return their sum (also a binary string).\n",
        "\n",
        "  The input strings are both non-empty and contains only characters 1 or 0.\n",
        "\n",
        "  Example 1:\n",
        "\n",
        "  Input: a = \"11\", b = \"1\"\n",
        "  Output: \"100\"\n",
        "  Example 2:\n",
        "\n",
        "  Input: a = \"1010\", b = \"1011\"\n",
        "  Output: \"10101\"\n",
        "\n",
        "\"\"\""
      ],
      "execution_count": 0,
      "outputs": []
    },
    {
      "cell_type": "code",
      "metadata": {
        "id": "KsWzlOzGsQLW",
        "colab_type": "code",
        "colab": {}
      },
      "source": [
        "class Solution:\n",
        "    def addBinary(self, a: str, b: str) -> str:\n",
        "        \n",
        "        difference_in_length = abs(len(a)-len(b))\n",
        "        if len(a) < len(b):\n",
        "          a = \"0\"*difference_in_length + a\n",
        "        else:\n",
        "          b = \"0\"*difference_in_length + b\n",
        "\n",
        "        carry = 0\n",
        "        master = \"\"\n",
        "        \n",
        "        for i in range(len(a))[::-1]:\n",
        "          x, y = int(a[i]), int(b[i])\n",
        "          \n",
        "          if x == y == carry == 1:\n",
        "            _sum = carry = 1\n",
        "          elif x == y == carry == 0:\n",
        "            _sum = carry = 0   \n",
        "          elif x + y + carry == 1:\n",
        "            _sum = 1\n",
        "            carry = 0\n",
        "          elif x + y + carry == 2:\n",
        "            _sum = 0\n",
        "            carry = 1\n",
        "            \n",
        "          master = str(_sum) + master\n",
        "           \n",
        "        if carry > 0:\n",
        "          master = str(carry) + master\n",
        "        \n",
        "        return master"
      ],
      "execution_count": 0,
      "outputs": []
    },
    {
      "cell_type": "code",
      "metadata": {
        "id": "lziPiSBxz92S",
        "colab_type": "code",
        "colab": {
          "base_uri": "https://localhost:8080/",
          "height": 34
        },
        "outputId": "4a11038c-b4a5-4eeb-86a5-e270cd226851"
      },
      "source": [
        "sol = Solution()\n",
        "\n",
        "sol.addBinary(\"1111111111\", \"1\")"
      ],
      "execution_count": 23,
      "outputs": [
        {
          "output_type": "execute_result",
          "data": {
            "text/plain": [
              "'10000000000'"
            ]
          },
          "metadata": {
            "tags": []
          },
          "execution_count": 23
        }
      ]
    },
    {
      "cell_type": "code",
      "metadata": {
        "id": "tsbJONmMLI3f",
        "colab_type": "code",
        "colab": {}
      },
      "source": [
        ""
      ],
      "execution_count": 0,
      "outputs": []
    }
  ]
}