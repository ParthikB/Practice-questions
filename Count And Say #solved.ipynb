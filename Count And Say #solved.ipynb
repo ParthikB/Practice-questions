{
  "nbformat": 4,
  "nbformat_minor": 0,
  "metadata": {
    "colab": {
      "name": "leetCode",
      "provenance": [],
      "collapsed_sections": [],
      "include_colab_link": true
    },
    "kernelspec": {
      "name": "python3",
      "display_name": "Python 3"
    },
    "accelerator": "GPU"
  },
  "cells": [
    {
      "cell_type": "markdown",
      "metadata": {
        "id": "view-in-github",
        "colab_type": "text"
      },
      "source": [
        "<a href=\"https://colab.research.google.com/github/ParthikB/Practice-questions/blob/master/Count%20And%20Say%20%23solved.ipynb\" target=\"_parent\"><img src=\"https://colab.research.google.com/assets/colab-badge.svg\" alt=\"Open In Colab\"/></a>"
      ]
    },
    {
      "cell_type": "code",
      "metadata": {
        "id": "4suE95ynENtv",
        "colab_type": "code",
        "outputId": "61b28f95-7300-4907-f317-5a774139731c",
        "colab": {
          "base_uri": "https://localhost:8080/",
          "height": 54
        }
      },
      "source": [
        "\"\"\"\n",
        "\n",
        "The count-and-say sequence is the sequence of integers with the first five terms as following:\n",
        "\n",
        "1.     1\n",
        "2.     11\n",
        "3.     21\n",
        "4.     1211\n",
        "5.     111221\n",
        "1 is read off as \"one 1\" or 11.\n",
        "11 is read off as \"two 1s\" or 21.\n",
        "21 is read off as \"one 2, then one 1\" or 1211.\n",
        "\n",
        "Given an integer n where 1 ≤ n ≤ 30, generate the nth term of the count-and-say sequence.\n",
        "\n",
        "Note: Each term of the sequence of integers will be represented as a string.\n",
        "\n",
        "\"\"\""
      ],
      "execution_count": 88,
      "outputs": [
        {
          "output_type": "execute_result",
          "data": {
            "text/plain": [
              "'\\n\\nThe count-and-say sequence is the sequence of integers with the first five terms as following:\\n\\n1.     1\\n2.     11\\n3.     21\\n4.     1211\\n5.     111221\\n1 is read off as \"one 1\" or 11.\\n11 is read off as \"two 1s\" or 21.\\n21 is read off as \"one 2, then one 1\" or 1211.\\n\\nGiven an integer n where 1 ≤ n ≤ 30, generate the nth term of the count-and-say sequence.\\n\\nNote: Each term of the sequence of integers will be represented as a string.\\n\\n'"
            ]
          },
          "metadata": {
            "tags": []
          },
          "execution_count": 88
        }
      ]
    },
    {
      "cell_type": "code",
      "metadata": {
        "id": "EMSfATgmlz2u",
        "colab_type": "code",
        "colab": {}
      },
      "source": [
        "def countAndSay(n):\n",
        "  arr = [None]*(n)\n",
        "  arr[0] = \"1\"\n",
        "  \n",
        "  for i in range(1, n):\n",
        "    master = \"\"\n",
        "    counter = 1\n",
        "    for j in range(len(arr[i-1])):\n",
        "      _str = arr[i-1]\n",
        "      valid = False\n",
        "      \n",
        "      try:\n",
        "        if _str[j] == _str[j+1]:\n",
        "          counter += 1\n",
        "          valid = True\n",
        "      except:\n",
        "          pass\n",
        "      \n",
        "      if not valid:\n",
        "        master += str(counter) + _str[j]\n",
        "        counter = 1\n",
        "      \n",
        "      \n",
        "    arr[i] = master\n",
        "    \n",
        "  return arr[n-1]\n",
        "      \n",
        "    \n",
        "  "
      ],
      "execution_count": 0,
      "outputs": []
    },
    {
      "cell_type": "code",
      "metadata": {
        "id": "K0QPln0ll_ae",
        "colab_type": "code",
        "colab": {
          "base_uri": "https://localhost:8080/",
          "height": 34
        },
        "outputId": "07948455-05d0-41c3-84b2-261dc0cfc164"
      },
      "source": [
        "countAndSay(5)"
      ],
      "execution_count": 145,
      "outputs": [
        {
          "output_type": "execute_result",
          "data": {
            "text/plain": [
              "'111221'"
            ]
          },
          "metadata": {
            "tags": []
          },
          "execution_count": 145
        }
      ]
    },
    {
      "cell_type": "code",
      "metadata": {
        "id": "7bJ-guQ_m0gO",
        "colab_type": "code",
        "colab": {}
      },
      "source": [
        ""
      ],
      "execution_count": 0,
      "outputs": []
    }
  ]
}