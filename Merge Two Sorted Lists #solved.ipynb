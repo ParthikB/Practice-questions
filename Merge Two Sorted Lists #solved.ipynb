{
  "nbformat": 4,
  "nbformat_minor": 0,
  "metadata": {
    "colab": {
      "name": "Add Two Numbers",
      "provenance": [],
      "collapsed_sections": [],
      "include_colab_link": true
    },
    "kernelspec": {
      "name": "python3",
      "display_name": "Python 3"
    }
  },
  "cells": [
    {
      "cell_type": "markdown",
      "metadata": {
        "id": "view-in-github",
        "colab_type": "text"
      },
      "source": [
        "<a href=\"https://colab.research.google.com/github/ParthikB/Practice-questions/blob/master/Merge%20Two%20Sorted%20Lists%20%23solved.ipynb\" target=\"_parent\"><img src=\"https://colab.research.google.com/assets/colab-badge.svg\" alt=\"Open In Colab\"/></a>"
      ]
    },
    {
      "cell_type": "code",
      "metadata": {
        "id": "v1IkdqWVCSgs",
        "colab_type": "code",
        "colab": {
          "base_uri": "https://localhost:8080/",
          "height": 54
        },
        "outputId": "86c27505-dc2f-45c1-e847-10d1c9d9b800"
      },
      "source": [
        "\"\"\"\n",
        "Merge two sorted linked lists and return it as a new list. The new list should be made by splicing together the nodes of the first two lists.\n",
        "\n",
        "Example:\n",
        "\n",
        "Input: 1->2->4, 1->3->4\n",
        "Output: 1->1->2->3->4->4\n",
        "\n",
        "\"\"\""
      ],
      "execution_count": 12,
      "outputs": [
        {
          "output_type": "execute_result",
          "data": {
            "text/plain": [
              "'\\nMerge two sorted linked lists and return it as a new list. The new list should be made by splicing together the nodes of the first two lists.\\n\\nExample:\\n\\nInput: 1->2->4, 1->3->4\\nOutput: 1->1->2->3->4->4\\n\\n'"
            ]
          },
          "metadata": {
            "tags": []
          },
          "execution_count": 12
        }
      ]
    },
    {
      "cell_type": "code",
      "metadata": {
        "id": "zkQKdwmB5k1E",
        "colab_type": "code",
        "colab": {}
      },
      "source": [
        "# Definition for singly-linked list.\n",
        "class ListNode:\n",
        "    def __init__(self, x):\n",
        "        self.val = x\n",
        "        self.next = None\n",
        "\n",
        "class Solution:\n",
        "    def mergeTwoLists(self, l1: ListNode, l2: ListNode) -> ListNode:\n",
        "        \n",
        "        cur1 = l1\n",
        "        cur2 = l2\n",
        "        left = None\n",
        "        \n",
        "        if not cur1 and not cur2:\n",
        "          return l1\n",
        "        \n",
        "        while True:\n",
        "                    \n",
        "          if not cur1:\n",
        "            left = cur2\n",
        "          if not cur2:\n",
        "            left = cur1\n",
        "          \n",
        "          if left:\n",
        "            while left:\n",
        "              try:\n",
        "                cur3.next = ListNode(left.val)\n",
        "                cur3 = cur3.next\n",
        "              except:\n",
        "                l3 = ListNode(left.val)\n",
        "                cur3 = l3\n",
        "              left = left.next\n",
        "            break\n",
        "          \n",
        "          if cur2.val < cur1.val:\n",
        "            min_ = cur2.val\n",
        "            cur2 = cur2.next\n",
        "          else:\n",
        "            min_ = cur1.val\n",
        "            cur1 = cur1.next\n",
        "\n",
        "          try:\n",
        "            cur3.next = ListNode(min_)\n",
        "            cur3 = cur3.next\n",
        "          except:\n",
        "            l3 = ListNode(min_)\n",
        "            cur3 = l3\n",
        "          \n",
        "        return l3"
      ],
      "execution_count": 0,
      "outputs": []
    },
    {
      "cell_type": "code",
      "metadata": {
        "id": "13Cxm_jaRdqg",
        "colab_type": "code",
        "colab": {}
      },
      "source": [
        ""
      ],
      "execution_count": 0,
      "outputs": []
    }
  ]
}