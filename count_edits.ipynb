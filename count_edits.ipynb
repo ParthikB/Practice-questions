{
 "cells": [
  {
   "cell_type": "code",
   "execution_count": 8,
   "metadata": {},
   "outputs": [],
   "source": [
    "src = \"ABCDEFG\"\n",
    "target = \"ABDFFGH\""
   ]
  },
  {
   "cell_type": "code",
   "execution_count": 4,
   "metadata": {},
   "outputs": [
    {
     "name": "stdout",
     "output_type": "stream",
     "text": [
      "A A\n",
      "B B\n",
      "C D\n",
      "+1\n",
      "D F\n",
      "+1\n",
      "E F\n",
      "+1\n",
      "F G\n",
      "+1\n",
      "G H\n",
      "+1\n"
     ]
    },
    {
     "data": {
      "text/plain": [
       "5"
      ]
     },
     "execution_count": 4,
     "metadata": {},
     "output_type": "execute_result"
    }
   ],
   "source": [
    "counter = 0\n",
    "for i in range(len(src)):\n",
    "    print(src[i], target[i])\n",
    "    if src[i] != target[i]:\n",
    "        counter += 1\n",
    "        print(\"+1\")\n",
    "counter"
   ]
  },
  {
   "cell_type": "code",
   "execution_count": 13,
   "metadata": {},
   "outputs": [
    {
     "data": {
      "text/plain": [
       "('ABCDEFG', 'ABDFFGH')"
      ]
     },
     "execution_count": 13,
     "metadata": {},
     "output_type": "execute_result"
    }
   ],
   "source": [
    "src, target"
   ]
  },
  {
   "cell_type": "code",
   "execution_count": 18,
   "metadata": {},
   "outputs": [
    {
     "name": "stdout",
     "output_type": "stream",
     "text": [
      "0 0 A A\n",
      "1 1 B B\n",
      "2 2 C D\n",
      "+1\n",
      "3 2 D D\n",
      "4 3 E F\n",
      "+1\n",
      "5 3 F F\n",
      "6 4 G F\n",
      "+1\n"
     ]
    },
    {
     "data": {
      "text/plain": [
       "5"
      ]
     },
     "execution_count": 18,
     "metadata": {},
     "output_type": "execute_result"
    }
   ],
   "source": [
    "counter = 0\n",
    "i, j = 0, 0\n",
    "while j < len(target):\n",
    "    print(i, j, src[i], target[j])\n",
    "    if src[i] == target[j]:\n",
    "        i += 1\n",
    "        j += 1\n",
    "    else:\n",
    "        counter += 1\n",
    "        print(\"+1\")\n",
    "        i += 1\n",
    "        \n",
    "    if i == len(src):\n",
    "        counter += len(target)-1 - j\n",
    "        break\n",
    "counter"
   ]
  },
  {
   "cell_type": "code",
   "execution_count": null,
   "metadata": {},
   "outputs": [],
   "source": []
  }
 ],
 "metadata": {
  "kernelspec": {
   "display_name": "Python 3",
   "language": "python",
   "name": "python3"
  },
  "language_info": {
   "codemirror_mode": {
    "name": "ipython",
    "version": 3
   },
   "file_extension": ".py",
   "mimetype": "text/x-python",
   "name": "python",
   "nbconvert_exporter": "python",
   "pygments_lexer": "ipython3",
   "version": "3.7.3"
  }
 },
 "nbformat": 4,
 "nbformat_minor": 2
}
