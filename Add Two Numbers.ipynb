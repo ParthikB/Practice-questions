{
  "nbformat": 4,
  "nbformat_minor": 0,
  "metadata": {
    "colab": {
      "name": "LeetCode 2",
      "provenance": [],
      "collapsed_sections": [],
      "include_colab_link": true
    },
    "kernelspec": {
      "name": "python3",
      "display_name": "Python 3"
    }
  },
  "cells": [
    {
      "cell_type": "markdown",
      "metadata": {
        "id": "view-in-github",
        "colab_type": "text"
      },
      "source": [
        "<a href=\"https://colab.research.google.com/github/ParthikB/Practice-questions/blob/master/Add%20Two%20Numbers.ipynb\" target=\"_parent\"><img src=\"https://colab.research.google.com/assets/colab-badge.svg\" alt=\"Open In Colab\"/></a>"
      ]
    },
    {
      "cell_type": "code",
      "metadata": {
        "id": "v1IkdqWVCSgs",
        "colab_type": "code",
        "colab": {}
      },
      "source": [
        "# Definition for singly-linked list.\n",
        "class ListNode:\n",
        "    def __init__(self, x):\n",
        "        self.val = x\n",
        "        self.next = None\n",
        "        \n",
        "\n",
        "class Solution:\n",
        "  \n",
        "  def return_int(self, ll):\n",
        "    p, temp = 0, 0\n",
        "    cur = ll\n",
        "    while cur:\n",
        "      temp += cur.val * pow(10, p)\n",
        "      p += 1\n",
        "      cur = cur.next\n",
        "  \n",
        "    return temp\n",
        "  \n",
        "  \n",
        "  def split(self, num):\n",
        "    p = 0\n",
        "    master = []\n",
        "    while num>0:\n",
        "      master.append((num % pow(10, p+1)) // pow(10, p))\n",
        "      num -= num % pow(10, p+1)\n",
        "      p += 1\n",
        "\n",
        "    return master  \n",
        "  \n",
        "  \n",
        "  def addTwoNumbers(self, l1: ListNode, l2: ListNode) -> ListNode:\n",
        "    num1 = self.return_int(l1)\n",
        "    num2 = self.return_int(l2)\n",
        "    \n",
        "    solution = num1 + num2\n",
        "    solution_split = self.split(solution)\n",
        "    if not solution_split:\n",
        "      return ListNode(0)\n",
        "    \n",
        "    \n",
        "    l3 = ListNode(solution_split[0])\n",
        "    cur = l3\n",
        "    for item in solution_split[1:]:\n",
        "      cur.next = ListNode(item)\n",
        "      cur = cur.next\n",
        "      \n",
        "    return l3"
      ],
      "execution_count": 0,
      "outputs": []
    }
  ]
}