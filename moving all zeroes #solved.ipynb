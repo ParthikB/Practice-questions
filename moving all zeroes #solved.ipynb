{
 "cells": [
  {
   "cell_type": "markdown",
   "metadata": {},
   "source": [
    "##### moving all zeroes to the end (in-place) with other ints in respective order"
   ]
  },
  {
   "cell_type": "code",
   "execution_count": 41,
   "metadata": {},
   "outputs": [],
   "source": [
    "def sort(l, n=1):\n",
    "    if len(l) <= n: return l\n",
    "    else:\n",
    "#         print(n,\"||\", -n-1,\":\",l[-n-1],\"||\", -n, \":\", l[-n],  l)\n",
    "        if l[-n-1] == 0 and l[-n] != 0:\n",
    "#             print(\"swapping\")\n",
    "            l[-n-1], l[-n] = l[-n], l[-n-1]\n",
    "            sort(l, n=1)\n",
    "        else:\n",
    "            sort(l, n+1)\n",
    "    \n",
    "    return l"
   ]
  },
  {
   "cell_type": "code",
   "execution_count": 44,
   "metadata": {},
   "outputs": [
    {
     "data": {
      "text/plain": [
       "[1, 3, 12, 0, 0]"
      ]
     },
     "execution_count": 44,
     "metadata": {},
     "output_type": "execute_result"
    }
   ],
   "source": [
    "arr = [0, 1, 0, 3, 12]\n",
    "\n",
    "sort(arr)"
   ]
  },
  {
   "cell_type": "code",
   "execution_count": null,
   "metadata": {},
   "outputs": [],
   "source": []
  }
 ],
 "metadata": {
  "kernelspec": {
   "display_name": "Python 3",
   "language": "python",
   "name": "python3"
  },
  "language_info": {
   "codemirror_mode": {
    "name": "ipython",
    "version": 3
   },
   "file_extension": ".py",
   "mimetype": "text/x-python",
   "name": "python",
   "nbconvert_exporter": "python",
   "pygments_lexer": "ipython3",
   "version": "3.7.3"
  }
 },
 "nbformat": 4,
 "nbformat_minor": 2
}
