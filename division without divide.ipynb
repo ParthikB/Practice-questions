{
 "cells": [
  {
   "cell_type": "markdown",
   "metadata": {},
   "source": [
    "### Implement division without using divide/multiply/mod"
   ]
  },
  {
   "cell_type": "code",
   "execution_count": 12,
   "metadata": {},
   "outputs": [],
   "source": [
    "def divide(num, den):\n",
    "    master = 0\n",
    "    \n",
    "    if (num > 0 and den > 0) or (num < 0 and den < 0) :\n",
    "        print(num, den, num-den)\n",
    "\n",
    "        while num - den > 0:\n",
    "            print(num, den, num-den)\n",
    "            master += 1\n",
    "            num -= den\n",
    "    \n",
    "    else:\n",
    "        while num + den < 0:\n",
    "            master += 1\n",
    "            num += den\n",
    "            \n",
    "    return master"
   ]
  },
  {
   "cell_type": "code",
   "execution_count": 40,
   "metadata": {},
   "outputs": [],
   "source": [
    "def dev2(n):\n",
    "    for i in range(n):\n",
    "        if i+i == n:\n",
    "            return i"
   ]
  },
  {
   "cell_type": "code",
   "execution_count": 43,
   "metadata": {},
   "outputs": [
    {
     "data": {
      "text/plain": [
       "3"
      ]
     },
     "execution_count": 43,
     "metadata": {},
     "output_type": "execute_result"
    }
   ],
   "source": [
    "dev2(6)"
   ]
  },
  {
   "cell_type": "code",
   "execution_count": 27,
   "metadata": {},
   "outputs": [],
   "source": [
    "def divide(num, den):\n",
    "    num, den = num**2, den**2\n",
    "    master = 0\n",
    "    while num - den > 0:\n",
    "        print(num, den, master)\n",
    "        master += 1\n",
    "        num -= den\n",
    "        \n",
    "    return dev2(master)\n"
   ]
  },
  {
   "cell_type": "code",
   "execution_count": 28,
   "metadata": {},
   "outputs": [
    {
     "name": "stdout",
     "output_type": "stream",
     "text": [
      "25 4 0\n",
      "21 4 1\n",
      "17 4 2\n",
      "13 4 3\n",
      "9 4 4\n",
      "5 4 5\n"
     ]
    },
    {
     "data": {
      "text/plain": [
       "3"
      ]
     },
     "execution_count": 28,
     "metadata": {},
     "output_type": "execute_result"
    }
   ],
   "source": [
    "divide(-5, -2)"
   ]
  },
  {
   "cell_type": "code",
   "execution_count": null,
   "metadata": {},
   "outputs": [],
   "source": []
  }
 ],
 "metadata": {
  "kernelspec": {
   "display_name": "Python 3",
   "language": "python",
   "name": "python3"
  },
  "language_info": {
   "codemirror_mode": {
    "name": "ipython",
    "version": 3
   },
   "file_extension": ".py",
   "mimetype": "text/x-python",
   "name": "python",
   "nbconvert_exporter": "python",
   "pygments_lexer": "ipython3",
   "version": "3.7.3"
  }
 },
 "nbformat": 4,
 "nbformat_minor": 2
}
