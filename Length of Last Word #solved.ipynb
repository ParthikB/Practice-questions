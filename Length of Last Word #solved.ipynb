{
  "nbformat": 4,
  "nbformat_minor": 0,
  "metadata": {
    "colab": {
      "name": "leetCode",
      "provenance": [],
      "collapsed_sections": [],
      "include_colab_link": true
    },
    "kernelspec": {
      "name": "python3",
      "display_name": "Python 3"
    },
    "accelerator": "GPU"
  },
  "cells": [
    {
      "cell_type": "markdown",
      "metadata": {
        "id": "view-in-github",
        "colab_type": "text"
      },
      "source": [
        "<a href=\"https://colab.research.google.com/github/ParthikB/Practice-questions/blob/master/Length%20of%20Last%20Word%20%23solved.ipynb\" target=\"_parent\"><img src=\"https://colab.research.google.com/assets/colab-badge.svg\" alt=\"Open In Colab\"/></a>"
      ]
    },
    {
      "cell_type": "code",
      "metadata": {
        "id": "-x8W8K0VtzGW",
        "colab_type": "code",
        "colab": {}
      },
      "source": [
        "\n",
        "\"\"\"\n",
        "Given a string s consists of upper/lower-case alphabets and empty space characters ' ', return the length of last word in the string.\n",
        "\n",
        "If the last word does not exist, return 0.\n",
        "\n",
        "Note: A word is defined as a character sequence consists of non-space characters only.\n",
        "\n",
        "Example:\n",
        "\n",
        "Input: \"Hello World\"\n",
        "Output: 5\n",
        "\n",
        "\"\"\""
      ],
      "execution_count": 0,
      "outputs": []
    },
    {
      "cell_type": "code",
      "metadata": {
        "id": "RqnTd5Jl29iT",
        "colab_type": "code",
        "colab": {
          "base_uri": "https://localhost:8080/",
          "height": 34
        },
        "outputId": "c98e9adb-6962-42d1-8a0a-92fd8c5b7349"
      },
      "source": [
        "def lengthOfLastWord(string):\n",
        "  splits = string.strip().split(\" \")\n",
        "  return len(splits[-1])\n",
        "\n",
        "a = \"\"\n",
        "\n",
        "lengthOfLastWord(a)"
      ],
      "execution_count": 13,
      "outputs": [
        {
          "output_type": "execute_result",
          "data": {
            "text/plain": [
              "0"
            ]
          },
          "metadata": {
            "tags": []
          },
          "execution_count": 13
        }
      ]
    },
    {
      "cell_type": "code",
      "metadata": {
        "id": "abwRUcv6n4HR",
        "colab_type": "code",
        "colab": {}
      },
      "source": [
        ""
      ],
      "execution_count": 0,
      "outputs": []
    }
  ]
}