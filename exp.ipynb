{
 "cells": [
  {
   "cell_type": "code",
   "execution_count": 28,
   "metadata": {},
   "outputs": [],
   "source": [
    "import numpy as np\n",
    "a = [1, 3, 5, 7]\n",
    "b = [2, 4, 6, 8]\n",
    "# b = [9, 10, 11, 12]"
   ]
  },
  {
   "cell_type": "code",
   "execution_count": 30,
   "metadata": {},
   "outputs": [
    {
     "data": {
      "text/plain": [
       "[1, 2, 3, 4, 5, 6, 7, 8]"
      ]
     },
     "execution_count": 30,
     "metadata": {},
     "output_type": "execute_result"
    }
   ],
   "source": [
    "sorted(a+b)"
   ]
  },
  {
   "cell_type": "code",
   "execution_count": 37,
   "metadata": {},
   "outputs": [
    {
     "name": "stdout",
     "output_type": "stream",
     "text": [
      "1 0 [1]\n",
      "1 1 [1, 2]\n",
      "2 1 [1, 2, 3]\n",
      "2 2 [1, 2, 3, 4]\n",
      "3 2 [1, 2, 3, 4, 5]\n",
      "3 3 [1, 2, 3, 4, 5, 6]\n",
      "4 3 [1, 2, 3, 4, 5, 6, 7]\n"
     ]
    },
    {
     "data": {
      "text/plain": [
       "[1, 2, 3, 4, 5, 6, 7]"
      ]
     },
     "execution_count": 37,
     "metadata": {},
     "output_type": "execute_result"
    }
   ],
   "source": [
    "i, j = 0, 0\n",
    "master = []\n",
    "\n",
    "while i < len(a) and j < len(a):\n",
    "    if i == len(a):\n",
    "        master.append(b[j])\n",
    "        j += 1\n",
    "    elif j == len(a):\n",
    "        master.append(a[i])\n",
    "        i += 1\n",
    "    elif a[i] < b[j]:\n",
    "        master.append(a[i])\n",
    "        i += 1\n",
    "    elif a[i] >= b[j]:\n",
    "        master.append(b[j])\n",
    "        j += 1\n",
    "    print(i, j, master)\n",
    "\n",
    "        \n",
    "master"
   ]
  },
  {
   "cell_type": "code",
   "execution_count": null,
   "metadata": {},
   "outputs": [],
   "source": []
  },
  {
   "cell_type": "code",
   "execution_count": null,
   "metadata": {},
   "outputs": [],
   "source": []
  }
 ],
 "metadata": {
  "kernelspec": {
   "display_name": "Python 3",
   "language": "python",
   "name": "python3"
  },
  "language_info": {
   "codemirror_mode": {
    "name": "ipython",
    "version": 3
   },
   "file_extension": ".py",
   "mimetype": "text/x-python",
   "name": "python",
   "nbconvert_exporter": "python",
   "pygments_lexer": "ipython3",
   "version": "3.7.3"
  }
 },
 "nbformat": 4,
 "nbformat_minor": 2
}
