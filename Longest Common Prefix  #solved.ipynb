{
  "nbformat": 4,
  "nbformat_minor": 0,
  "metadata": {
    "colab": {
      "name": "roman to integer",
      "provenance": [],
      "collapsed_sections": [],
      "include_colab_link": true
    },
    "kernelspec": {
      "name": "python3",
      "display_name": "Python 3"
    },
    "accelerator": "GPU"
  },
  "cells": [
    {
      "cell_type": "markdown",
      "metadata": {
        "id": "view-in-github",
        "colab_type": "text"
      },
      "source": [
        "<a href=\"https://colab.research.google.com/github/ParthikB/Practice-questions/blob/master/Longest%20Common%20Prefix%20%20%23solved.ipynb\" target=\"_parent\"><img src=\"https://colab.research.google.com/assets/colab-badge.svg\" alt=\"Open In Colab\"/></a>"
      ]
    },
    {
      "cell_type": "code",
      "metadata": {
        "id": "bEGGmbJvowOw",
        "colab_type": "code",
        "colab": {}
      },
      "source": [
        "def bruteForce(string):\n",
        "  master = ''\n",
        "  _max = len(min(string, key=len))  \n",
        "  i = 0\n",
        "  while i < _max:\n",
        "    prev = string[0][i]\n",
        "    for word in string:\n",
        "      if prev != word[i]:\n",
        "        return master\n",
        "      prev = word[i]\n",
        "    master += prev\n",
        "    i += 1\n",
        "  \n",
        "  return master"
      ],
      "execution_count": 0,
      "outputs": []
    },
    {
      "cell_type": "code",
      "metadata": {
        "id": "FgW9JOR9tqFS",
        "colab_type": "code",
        "outputId": "c1715b19-6588-4b21-fc08-def80f71abb0",
        "colab": {
          "base_uri": "https://localhost:8080/",
          "height": 208
        }
      },
      "source": [
        "%%time\n",
        "string = [\"flower\",\"flow\",\"flight\"]\n",
        "\n",
        "bruteForce(string)"
      ],
      "execution_count": 46,
      "outputs": [
        {
          "output_type": "stream",
          "text": [
            "f flower\n",
            "f flow\n",
            "f flight\n",
            "l flower\n",
            "l flow\n",
            "l flight\n",
            "o flower\n",
            "o flow\n",
            "fl\n",
            "CPU times: user 4.32 ms, sys: 0 ns, total: 4.32 ms\n",
            "Wall time: 4.99 ms\n"
          ],
          "name": "stdout"
        }
      ]
    },
    {
      "cell_type": "code",
      "metadata": {
        "id": "Td57PO7ltxvi",
        "colab_type": "code",
        "colab": {
          "base_uri": "https://localhost:8080/",
          "height": 35
        },
        "outputId": "4ffee0dd-786d-4be6-9ccf-63746be9df06"
      },
      "source": [
        ""
      ],
      "execution_count": 49,
      "outputs": [
        {
          "output_type": "execute_result",
          "data": {
            "text/plain": [
              "'flower'"
            ]
          },
          "metadata": {
            "tags": []
          },
          "execution_count": 49
        }
      ]
    }
  ]
}