{
  "nbformat": 4,
  "nbformat_minor": 0,
  "metadata": {
    "colab": {
      "name": "leetCode",
      "provenance": [],
      "collapsed_sections": [],
      "include_colab_link": true
    },
    "kernelspec": {
      "name": "python3",
      "display_name": "Python 3"
    },
    "accelerator": "GPU"
  },
  "cells": [
    {
      "cell_type": "markdown",
      "metadata": {
        "id": "view-in-github",
        "colab_type": "text"
      },
      "source": [
        "<a href=\"https://colab.research.google.com/github/ParthikB/Practice-questions/blob/master/Longest%20Substring%20Without%20Repeating%20Characters%20%23solved.ipynb\" target=\"_parent\"><img src=\"https://colab.research.google.com/assets/colab-badge.svg\" alt=\"Open In Colab\"/></a>"
      ]
    },
    {
      "cell_type": "code",
      "metadata": {
        "id": "-x8W8K0VtzGW",
        "colab_type": "code",
        "colab": {}
      },
      "source": [
        "\n",
        "\"\"\"\n",
        "Longest Substring Without Repeating Characters\n",
        "\n",
        "\"\"\""
      ],
      "execution_count": 0,
      "outputs": []
    },
    {
      "cell_type": "code",
      "metadata": {
        "id": "tzr3zaVNwz7G",
        "colab_type": "code",
        "colab": {}
      },
      "source": [
        "def long(s):\n",
        "  master = []\n",
        "  length = 0\n",
        "  i = 0\n",
        "  \n",
        "  if len(s) < 2:\n",
        "    return len(s)\n",
        "  \n",
        "  while True:\n",
        "    master.append(s[i])\n",
        "    length = max(length, len(master))\n",
        "    \n",
        "    if i == len(s)-1:\n",
        "      break\n",
        "      \n",
        "    i += 1\n",
        "    \n",
        "    if s[i] in master:\n",
        "      master = master[master.index(s[i])+1 :]\n",
        "    \n",
        "      \n",
        "  return length"
      ],
      "execution_count": 0,
      "outputs": []
    },
    {
      "cell_type": "code",
      "metadata": {
        "id": "iVSDMjqJx2E9",
        "colab_type": "code",
        "colab": {
          "base_uri": "https://localhost:8080/",
          "height": 34
        },
        "outputId": "3458939f-689c-4a69-e41d-21883437b510"
      },
      "source": [
        "long(\"dvdf\")"
      ],
      "execution_count": 238,
      "outputs": [
        {
          "output_type": "execute_result",
          "data": {
            "text/plain": [
              "3"
            ]
          },
          "metadata": {
            "tags": []
          },
          "execution_count": 238
        }
      ]
    },
    {
      "cell_type": "code",
      "metadata": {
        "id": "RqnTd5Jl29iT",
        "colab_type": "code",
        "colab": {}
      },
      "source": [
        ""
      ],
      "execution_count": 0,
      "outputs": []
    }
  ]
}