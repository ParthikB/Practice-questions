{
  "nbformat": 4,
  "nbformat_minor": 0,
  "metadata": {
    "colab": {
      "name": "leetCode",
      "provenance": [],
      "collapsed_sections": [],
      "include_colab_link": true
    },
    "kernelspec": {
      "name": "python3",
      "display_name": "Python 3"
    },
    "accelerator": "GPU"
  },
  "cells": [
    {
      "cell_type": "markdown",
      "metadata": {
        "id": "view-in-github",
        "colab_type": "text"
      },
      "source": [
        "<a href=\"https://colab.research.google.com/github/ParthikB/Practice-questions/blob/master/Valid%20Parentheses%20%20%23solved.ipynb\" target=\"_parent\"><img src=\"https://colab.research.google.com/assets/colab-badge.svg\" alt=\"Open In Colab\"/></a>"
      ]
    },
    {
      "cell_type": "code",
      "metadata": {
        "id": "dR0hyKcdl0iG",
        "colab_type": "code",
        "colab": {}
      },
      "source": [
        "def bruteForce(string):\n",
        "  mapDict = {')':\"(\", \"}\":\"{\", \"]\":\"[\"}\n",
        "  openPair = [\"(\", \"{\", \"[\"]\n",
        "  master = []\n",
        "  if len(string) == 1:\n",
        "    return False\n",
        "  \n",
        "  for i in string:\n",
        "    if i in openPair:\n",
        "      master.append(i)\n",
        "    elif i == \")\" and master[-1] == mapDict[i]:\n",
        "      master.pop()\n",
        "    elif i == \"}\" and master[-1] == mapDict[i]:\n",
        "      master.pop()\n",
        "    elif i == \"]\" and master[-1] == mapDict[i]:\n",
        "      master.pop()\n",
        "    else:\n",
        "      return False\n",
        "    \n",
        "  return True if not master else False"
      ],
      "execution_count": 0,
      "outputs": []
    },
    {
      "cell_type": "code",
      "metadata": {
        "id": "eAmvkxfDm3md",
        "colab_type": "code",
        "colab": {
          "base_uri": "https://localhost:8080/",
          "height": 287
        },
        "outputId": "355fb010-ffd4-4ce8-f1fc-05deb6f4b199"
      },
      "source": [
        "bruteForce(\"){\")"
      ],
      "execution_count": 28,
      "outputs": [
        {
          "output_type": "error",
          "ename": "IndexError",
          "evalue": "ignored",
          "traceback": [
            "\u001b[0;31m---------------------------------------------------------------------------\u001b[0m",
            "\u001b[0;31mIndexError\u001b[0m                                Traceback (most recent call last)",
            "\u001b[0;32m<ipython-input-28-a7070109828a>\u001b[0m in \u001b[0;36m<module>\u001b[0;34m()\u001b[0m\n\u001b[0;32m----> 1\u001b[0;31m \u001b[0mbruteForce\u001b[0m\u001b[0;34m(\u001b[0m\u001b[0;34m\"){\"\u001b[0m\u001b[0;34m)\u001b[0m\u001b[0;34m\u001b[0m\u001b[0;34m\u001b[0m\u001b[0m\n\u001b[0m",
            "\u001b[0;32m<ipython-input-26-2f5b4c89b38e>\u001b[0m in \u001b[0;36mbruteForce\u001b[0;34m(string)\u001b[0m\n\u001b[1;32m      9\u001b[0m     \u001b[0;32mif\u001b[0m \u001b[0mi\u001b[0m \u001b[0;32min\u001b[0m \u001b[0mopenPair\u001b[0m\u001b[0;34m:\u001b[0m\u001b[0;34m\u001b[0m\u001b[0;34m\u001b[0m\u001b[0m\n\u001b[1;32m     10\u001b[0m       \u001b[0mmaster\u001b[0m\u001b[0;34m.\u001b[0m\u001b[0mappend\u001b[0m\u001b[0;34m(\u001b[0m\u001b[0mi\u001b[0m\u001b[0;34m)\u001b[0m\u001b[0;34m\u001b[0m\u001b[0;34m\u001b[0m\u001b[0m\n\u001b[0;32m---> 11\u001b[0;31m     \u001b[0;32melif\u001b[0m \u001b[0mi\u001b[0m \u001b[0;34m==\u001b[0m \u001b[0;34m\")\"\u001b[0m \u001b[0;32mand\u001b[0m \u001b[0mmaster\u001b[0m\u001b[0;34m[\u001b[0m\u001b[0;34m-\u001b[0m\u001b[0;36m1\u001b[0m\u001b[0;34m]\u001b[0m \u001b[0;34m==\u001b[0m \u001b[0mmapDict\u001b[0m\u001b[0;34m[\u001b[0m\u001b[0mi\u001b[0m\u001b[0;34m]\u001b[0m\u001b[0;34m:\u001b[0m\u001b[0;34m\u001b[0m\u001b[0;34m\u001b[0m\u001b[0m\n\u001b[0m\u001b[1;32m     12\u001b[0m       \u001b[0mmaster\u001b[0m\u001b[0;34m.\u001b[0m\u001b[0mpop\u001b[0m\u001b[0;34m(\u001b[0m\u001b[0;34m)\u001b[0m\u001b[0;34m\u001b[0m\u001b[0;34m\u001b[0m\u001b[0m\n\u001b[1;32m     13\u001b[0m     \u001b[0;32melif\u001b[0m \u001b[0mi\u001b[0m \u001b[0;34m==\u001b[0m \u001b[0;34m\"}\"\u001b[0m \u001b[0;32mand\u001b[0m \u001b[0mmaster\u001b[0m\u001b[0;34m[\u001b[0m\u001b[0;34m-\u001b[0m\u001b[0;36m1\u001b[0m\u001b[0;34m]\u001b[0m \u001b[0;34m==\u001b[0m \u001b[0mmapDict\u001b[0m\u001b[0;34m[\u001b[0m\u001b[0mi\u001b[0m\u001b[0;34m]\u001b[0m\u001b[0;34m:\u001b[0m\u001b[0;34m\u001b[0m\u001b[0;34m\u001b[0m\u001b[0m\n",
            "\u001b[0;31mIndexError\u001b[0m: list index out of range"
          ]
        }
      ]
    },
    {
      "cell_type": "code",
      "metadata": {
        "id": "OkmTq76XnKpu",
        "colab_type": "code",
        "colab": {}
      },
      "source": [
        "def checkValidity(string):\n",
        "  open_ = [\"(\", \"{\", \"[\"]\n",
        "  close = [\")\", \"}\", \"]\"]\n",
        "  mapDict = {')':\"(\", \"}\":\"{\", \"]\":\"[\"}\n",
        "  track = []\n",
        "  marker = 0\n",
        "  \n",
        "  for i in string:\n",
        "    if i in open_:\n",
        "      track.append(i)\n",
        "      marker += 1\n",
        "    else:\n",
        "      if not marker:\n",
        "        return False\n",
        "      else:\n",
        "        marker -= 1\n",
        "        if mapDict[i] == track[-1]:\n",
        "          track.pop()\n",
        "        else:\n",
        "          return False\n",
        "        \n",
        "  return True if not track else False"
      ],
      "execution_count": 0,
      "outputs": []
    },
    {
      "cell_type": "code",
      "metadata": {
        "id": "kHEkkRhWsQ-_",
        "colab_type": "code",
        "colab": {
          "base_uri": "https://localhost:8080/",
          "height": 35
        },
        "outputId": "a270f79b-3b99-46e3-f0ea-d411d03a7d91"
      },
      "source": [
        "checkValidity(\"[](())\")"
      ],
      "execution_count": 61,
      "outputs": [
        {
          "output_type": "execute_result",
          "data": {
            "text/plain": [
              "True"
            ]
          },
          "metadata": {
            "tags": []
          },
          "execution_count": 61
        }
      ]
    }
  ]
}