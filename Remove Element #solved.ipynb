{
  "nbformat": 4,
  "nbformat_minor": 0,
  "metadata": {
    "colab": {
      "name": "leet code",
      "provenance": [],
      "include_colab_link": true
    },
    "kernelspec": {
      "name": "python3",
      "display_name": "Python 3"
    }
  },
  "cells": [
    {
      "cell_type": "markdown",
      "metadata": {
        "id": "view-in-github",
        "colab_type": "text"
      },
      "source": [
        "<a href=\"https://colab.research.google.com/github/ParthikB/Practice-questions/blob/master/Remove%20Element%20%23solved.ipynb\" target=\"_parent\"><img src=\"https://colab.research.google.com/assets/colab-badge.svg\" alt=\"Open In Colab\"/></a>"
      ]
    },
    {
      "cell_type": "code",
      "metadata": {
        "id": "rGoV9cmpgdRc",
        "colab_type": "code",
        "colab": {
          "base_uri": "https://localhost:8080/",
          "height": 55
        },
        "outputId": "c4be0ccc-526f-48f3-d5bf-8a2844a85542"
      },
      "source": [
        "\"\"\"\n",
        "Given an array nums and a value val, remove all instances of that value in-place and return the new length.\n",
        "\n",
        "Do not allocate extra space for another array, you must do this by modifying the input array in-place with O(1) extra memory.\n",
        "\n",
        "The order of elements can be changed. It doesn't matter what you leave beyond the new length.\n",
        "\n",
        "Example 1:\n",
        "\n",
        "Given nums = [3,2,2,3], val = 3,\n",
        "\n",
        "Your function should return length = 2, with the first two elements of nums being 2.\n",
        "\n",
        "It doesn't matter what you leave beyond the returned length.\n",
        "\n",
        "\"\"\""
      ],
      "execution_count": 64,
      "outputs": [
        {
          "output_type": "execute_result",
          "data": {
            "text/plain": [
              "\"\\nGiven an array nums and a value val, remove all instances of that value in-place and return the new length.\\n\\nDo not allocate extra space for another array, you must do this by modifying the input array in-place with O(1) extra memory.\\n\\nThe order of elements can be changed. It doesn't matter what you leave beyond the new length.\\n\\nExample 1:\\n\\nGiven nums = [3,2,2,3], val = 3,\\n\\nYour function should return length = 2, with the first two elements of nums being 2.\\n\\nIt doesn't matter what you leave beyond the returned length.\\n\\n\""
            ]
          },
          "metadata": {
            "tags": []
          },
          "execution_count": 64
        }
      ]
    },
    {
      "cell_type": "code",
      "metadata": {
        "id": "x7klQQw1OSal",
        "colab_type": "code",
        "colab": {}
      },
      "source": [
        "class Solution:\n",
        "    def removeElement(self, nums, val):\n",
        "        \n",
        "      i = 0\n",
        "      j = len(nums)-1\n",
        "      \n",
        "      while i <= j:\n",
        "#         print(\"i :\", i, \"| j :\", j, \"|\",arr)\n",
        "        if arr[i] != val:\n",
        "          i += 1\n",
        "        else:\n",
        "#           print(f\"{val} found.\")\n",
        "          if arr[j] != val:\n",
        "            arr[i], arr[j] = arr[j], arr[i]\n",
        "            i += 1\n",
        "          j -= 1\n",
        "          \n",
        "      return i\n",
        "            "
      ],
      "execution_count": 0,
      "outputs": []
    },
    {
      "cell_type": "code",
      "metadata": {
        "id": "smJeb3gtOifG",
        "colab_type": "code",
        "colab": {
          "base_uri": "https://localhost:8080/",
          "height": 35
        },
        "outputId": "1de2ff66-311d-4c39-bc5c-250e4fadb51d"
      },
      "source": [
        "val = 3\n",
        "arr = [3, 2, 2, 3]\n",
        "\n",
        "s = Solution()\n",
        "s.removeElement(arr, val)"
      ],
      "execution_count": 66,
      "outputs": [
        {
          "output_type": "execute_result",
          "data": {
            "text/plain": [
              "2"
            ]
          },
          "metadata": {
            "tags": []
          },
          "execution_count": 66
        }
      ]
    },
    {
      "cell_type": "code",
      "metadata": {
        "id": "yb2ijO7cPB2V",
        "colab_type": "code",
        "colab": {
          "base_uri": "https://localhost:8080/",
          "height": 35
        },
        "outputId": "9a0c65a3-fe03-43c7-c1bc-fc572842c6f8"
      },
      "source": [
        "arr"
      ],
      "execution_count": 67,
      "outputs": [
        {
          "output_type": "execute_result",
          "data": {
            "text/plain": [
              "[2, 2, 3, 3]"
            ]
          },
          "metadata": {
            "tags": []
          },
          "execution_count": 67
        }
      ]
    },
    {
      "cell_type": "code",
      "metadata": {
        "id": "g9u5LPP8goN7",
        "colab_type": "code",
        "colab": {}
      },
      "source": [
        ""
      ],
      "execution_count": 0,
      "outputs": []
    }
  ]
}