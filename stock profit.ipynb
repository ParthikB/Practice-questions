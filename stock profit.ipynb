{
 "cells": [
  {
   "cell_type": "code",
   "execution_count": 2,
   "metadata": {},
   "outputs": [],
   "source": [
    "import numpy as np"
   ]
  },
  {
   "cell_type": "code",
   "execution_count": 3,
   "metadata": {},
   "outputs": [],
   "source": [
    "p = np.array([9, 11, 8, 5, 7, 10])\n",
    "q = p.reshape(-1, 1)"
   ]
  },
  {
   "cell_type": "code",
   "execution_count": 4,
   "metadata": {},
   "outputs": [],
   "source": [
    "profit = q - p"
   ]
  },
  {
   "cell_type": "code",
   "execution_count": 5,
   "metadata": {},
   "outputs": [
    {
     "data": {
      "text/plain": [
       "array([[ 0, -2,  1,  4,  2, -1],\n",
       "       [ 2,  0,  3,  6,  4,  1],\n",
       "       [-1, -3,  0,  3,  1, -2],\n",
       "       [-4, -6, -3,  0, -2, -5],\n",
       "       [-2, -4, -1,  2,  0, -3],\n",
       "       [ 1, -1,  2,  5,  3,  0]])"
      ]
     },
     "execution_count": 5,
     "metadata": {},
     "output_type": "execute_result"
    }
   ],
   "source": [
    "profit"
   ]
  },
  {
   "cell_type": "markdown",
   "metadata": {},
   "source": [
    "X  9 11 8 5 7 10\n",
    "9  x x  x x x x\n",
    "11 x x  x x x x\n",
    "8  x x  x x x x\n",
    "5  x x  x x x x\n",
    "7  x x  x x x x\n",
    "10 x x  x x x x"
   ]
  },
  {
   "cell_type": "code",
   "execution_count": 9,
   "metadata": {},
   "outputs": [
    {
     "name": "stdout",
     "output_type": "stream",
     "text": [
      "0 [0]\n",
      "2 [2 0]\n",
      "0 [-1 -3  0]\n",
      "0 [-4 -6 -3  0]\n",
      "2 [-2 -4 -1  2  0]\n",
      "5 [ 1 -1  2  5  3  0]\n"
     ]
    }
   ],
   "source": [
    "m = 0\n",
    "for i in range(6):\n",
    "    n = (profit[i, 0:i+1])\n",
    "    m = max(n) if m < max(n) else m        \n",
    "    print(max(n), n)"
   ]
  },
  {
   "cell_type": "code",
   "execution_count": 20,
   "metadata": {},
   "outputs": [
    {
     "data": {
      "text/plain": [
       "array([[0, 0, 1, 4, 2, 0],\n",
       "       [2, 0, 3, 6, 4, 1],\n",
       "       [0, 0, 0, 3, 1, 0],\n",
       "       [0, 0, 0, 0, 0, 0],\n",
       "       [0, 0, 0, 2, 0, 0],\n",
       "       [1, 0, 2, 5, 3, 0]])"
      ]
     },
     "execution_count": 20,
     "metadata": {},
     "output_type": "execute_result"
    }
   ],
   "source": [
    "np.where(profit<0, 0, profit)"
   ]
  },
  {
   "cell_type": "code",
   "execution_count": 21,
   "metadata": {},
   "outputs": [
    {
     "data": {
      "text/plain": [
       "array([ 0, -2,  1,  4,  2, -1])"
      ]
     },
     "execution_count": 21,
     "metadata": {},
     "output_type": "execute_result"
    }
   ],
   "source": [
    "profit[0]"
   ]
  }
 ],
 "metadata": {
  "kernelspec": {
   "display_name": "Python 3",
   "language": "python",
   "name": "python3"
  },
  "language_info": {
   "codemirror_mode": {
    "name": "ipython",
    "version": 3
   },
   "file_extension": ".py",
   "mimetype": "text/x-python",
   "name": "python",
   "nbconvert_exporter": "python",
   "pygments_lexer": "ipython3",
   "version": "3.7.3"
  }
 },
 "nbformat": 4,
 "nbformat_minor": 2
}
