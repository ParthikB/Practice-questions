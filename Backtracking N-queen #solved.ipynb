{
  "nbformat": 4,
  "nbformat_minor": 0,
  "metadata": {
    "colab": {
      "name": "Backtracking N-queen",
      "provenance": [],
      "include_colab_link": true
    },
    "kernelspec": {
      "name": "python3",
      "display_name": "Python 3"
    },
    "accelerator": "GPU"
  },
  "cells": [
    {
      "cell_type": "markdown",
      "metadata": {
        "id": "view-in-github",
        "colab_type": "text"
      },
      "source": [
        "<a href=\"https://colab.research.google.com/github/ParthikB/Practice-questions/blob/master/Backtracking%20N-queen%20%23solved.ipynb\" target=\"_parent\"><img src=\"https://colab.research.google.com/assets/colab-badge.svg\" alt=\"Open In Colab\"/></a>"
      ]
    },
    {
      "cell_type": "code",
      "metadata": {
        "id": "ukxqBXU2w_hz",
        "colab_type": "code",
        "colab": {}
      },
      "source": [
        "def backTracking(n):\n",
        "\n",
        "  rowArr       = [None]*n\n",
        "  colArr       = [None]*n\n",
        "  leftDiagnol  = [None]*2*n\n",
        "  rightDiagnol = [None]*2*n\n",
        "\n",
        "  def placeQueen(n, row=0, totalSolutions=0):\n",
        "\n",
        "    if row == n:\n",
        "      totalSolutions += 1\n",
        "      return totalSolutions\n",
        "\n",
        "    for col in range(n):\n",
        "      if not rowArr[row] and not colArr[col] and not leftDiagnol[row-col] and not rightDiagnol[row+col]:\n",
        "        rowArr[row] = colArr[col] = leftDiagnol[row-col] = rightDiagnol[row+col] = True\n",
        "\n",
        "\n",
        "        totalSolutions = placeQueen(n, row+1, totalSolutions)\n",
        "\n",
        "        rowArr[row] = colArr[col] = leftDiagnol[row-col] = rightDiagnol[row+col] = None\n",
        "\n",
        "    return totalSolutions\n",
        "\n",
        "  \n",
        "  return placeQueen(n)"
      ],
      "execution_count": 0,
      "outputs": []
    },
    {
      "cell_type": "code",
      "metadata": {
        "id": "6PbJPHES7D-i",
        "colab_type": "code",
        "colab": {
          "base_uri": "https://localhost:8080/",
          "height": 295
        },
        "outputId": "cb1bd035-60af-41eb-a6ec-b2252a5d067d"
      },
      "source": [
        "import matplotlib.pyplot as plt\n",
        "%matplotlib inline\n",
        "\n",
        "size_log = []\n",
        "combination_log = []\n",
        "\n",
        "for i in range(1, 13):\n",
        "  size_log.append(i)\n",
        "  combination_log.append(backTracking(i))\n",
        "  \n",
        "plt.plot(size_log, combination_log)\n",
        "plt.xlabel(\"Size\")\n",
        "plt.ylabel(\"Total number of possible combinations\")\n",
        "plt.title(\"Growth\")\n",
        "plt.grid(1)"
      ],
      "execution_count": 6,
      "outputs": [
        {
          "output_type": "display_data",
          "data": {
            "image/png": "[encoded data removed]",
            "text/plain": [
              "<Figure size 432x288 with 1 Axes>"
            ]
          },
          "metadata": {
            "tags": []
          }
        }
      ]
    },
    {
      "cell_type": "code",
      "metadata": {
        "id": "-Z5V2x6C79sc",
        "colab_type": "code",
        "colab": {}
      },
      "source": [
        ""
      ],
      "execution_count": 0,
      "outputs": []
    },
    {
      "cell_type": "code",
      "metadata": {
        "id": "n_vumr_TlcUO",
        "colab_type": "code",
        "colab": {}
      },
      "source": [
        "# def arr(x):\n",
        "#     print('\\n'.join([''.join(['{:4}'.format(item) for item in row]) \n",
        "#           for row in x]))\n",
        "    \n",
        "# board = [[0, 0, 0, 0, 0, 0, 0, 0],\n",
        "# \t [0, 0, 0, 0, 0, 0, 0, 0],\n",
        "# \t [0, 0, 0, 0, 0, 0, 0, 0],\n",
        "# \t [0, 0, 0, 0, 0, 0, 0, 0],\n",
        "# \t [0, 0, 0, 0, 0, 0, 0, 0],\n",
        "# \t [0, 0, 0, 0, 0, 0, 0, 0],\n",
        "# \t [0, 0, 0, 0, 0, 0, 0, 0],\n",
        "# \t [0, 0, 0, 0, 0, 0, 0, 0]]\n",
        "\n",
        "# arr(board)"
      ],
      "execution_count": 0,
      "outputs": []
    }
  ]
}