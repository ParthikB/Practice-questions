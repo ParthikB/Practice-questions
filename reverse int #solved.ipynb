{
  "nbformat": 4,
  "nbformat_minor": 0,
  "metadata": {
    "colab": {
      "name": "two sums_LC #solved",
      "provenance": [],
      "include_colab_link": true
    },
    "kernelspec": {
      "name": "python3",
      "display_name": "Python 3"
    },
    "accelerator": "GPU"
  },
  "cells": [
    {
      "cell_type": "markdown",
      "metadata": {
        "id": "view-in-github",
        "colab_type": "text"
      },
      "source": [
        "<a href=\"https://colab.research.google.com/github/ParthikB/Practice-questions/blob/master/reverse%20int%20%23solved.ipynb\" target=\"_parent\"><img src=\"https://colab.research.google.com/assets/colab-badge.svg\" alt=\"Open In Colab\"/></a>"
      ]
    },
    {
      "cell_type": "code",
      "metadata": {
        "id": "HJ0t5eCLm3oS",
        "colab_type": "code",
        "colab": {}
      },
      "source": [
        "class Solution:\n",
        "    def reverse(self, n):\n",
        "        master = \"\"\n",
        "        if len(str(abs(n))) > 10:\n",
        "            return 0\n",
        "        \n",
        "        for i in range(len(str(n)))[::-1]:\n",
        "            master += str(n)[i]\n",
        "\n",
        "        if n < 0:\n",
        "            master = -int(master[:-1])\n",
        "            return master if master > -pow(2, 31) else 0\n",
        "\n",
        "        master = int(master)\n",
        "        return master if master < pow(2, 31) else 0\n"
      ],
      "execution_count": 0,
      "outputs": []
    },
    {
      "cell_type": "code",
      "metadata": {
        "id": "OjTueYIWvDmM",
        "colab_type": "code",
        "colab": {
          "base_uri": "https://localhost:8080/",
          "height": 34
        },
        "outputId": "e86b6c04-e13f-4730-e200-eb2a52b4001d"
      },
      "source": [
        "sol = Solution()\n",
        "sol.reverse(1534236469)"
      ],
      "execution_count": 81,
      "outputs": [
        {
          "output_type": "execute_result",
          "data": {
            "text/plain": [
              "0"
            ]
          },
          "metadata": {
            "tags": []
          },
          "execution_count": 81
        }
      ]
    },
    {
      "cell_type": "code",
      "metadata": {
        "id": "jYSZUPvDwmct",
        "colab_type": "code",
        "colab": {}
      },
      "source": [
        ""
      ],
      "execution_count": 0,
      "outputs": []
    }
  ]
}