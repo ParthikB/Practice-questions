{
  "nbformat": 4,
  "nbformat_minor": 0,
  "metadata": {
    "colab": {
      "name": "Add Two Numbers",
      "provenance": [],
      "collapsed_sections": [],
      "include_colab_link": true
    },
    "kernelspec": {
      "name": "python3",
      "display_name": "Python 3"
    }
  },
  "cells": [
    {
      "cell_type": "markdown",
      "metadata": {
        "id": "view-in-github",
        "colab_type": "text"
      },
      "source": [
        "<a href=\"https://colab.research.google.com/github/ParthikB/Practice-questions/blob/master/Add%20Two%20Numbers%20%23solved.ipynb\" target=\"_parent\"><img src=\"https://colab.research.google.com/assets/colab-badge.svg\" alt=\"Open In Colab\"/></a>"
      ]
    },
    {
      "cell_type": "code",
      "metadata": {
        "id": "v1IkdqWVCSgs",
        "colab_type": "code",
        "colab": {
          "base_uri": "https://localhost:8080/",
          "height": 54
        },
        "outputId": "d8086f5b-b910-43d6-971a-619d3c99b188"
      },
      "source": [
        "\"\"\"\n",
        "You are given two non-empty linked lists representing two non-negative integers. The digits are stored in reverse order and each of their nodes contain a single digit. \n",
        "Add the two numbers and return it as a linked list.\n",
        "\n",
        "You may assume the two numbers do not contain any leading zero, except the number 0 itself.\n",
        "\n",
        "Example:\n",
        "\n",
        "Input: (2 -> 4 -> 3) + (5 -> 6 -> 4)\n",
        "Output: 7 -> 0 -> 8\n",
        "Explanation: 342 + 465 = 807.\n",
        "\n",
        "\"\"\""
      ],
      "execution_count": 98,
      "outputs": [
        {
          "output_type": "execute_result",
          "data": {
            "text/plain": [
              "'\\nYou are given two non-empty linked lists representing two non-negative integers. The digits are stored in reverse order and each of their nodes contain a single digit. Add the two numbers and return it as a linked list.\\n\\nYou may assume the two numbers do not contain any leading zero, except the number 0 itself.\\n\\nExample:\\n\\nInput: (2 -> 4 -> 3) + (5 -> 6 -> 4)\\nOutput: 7 -> 0 -> 8\\nExplanation: 342 + 465 = 807.\\n\\n'"
            ]
          },
          "metadata": {
            "tags": []
          },
          "execution_count": 98
        }
      ]
    },
    {
      "cell_type": "code",
      "metadata": {
        "id": "zkQKdwmB5k1E",
        "colab_type": "code",
        "colab": {}
      },
      "source": [
        "# Definition for singly-linked list.\n",
        "class ListNode:\n",
        "    def __init__(self, x):\n",
        "        self.val = x\n",
        "        self.next = None\n",
        "\n",
        "class Solution:  \n",
        "  def addTwoNumbers(self, l1: ListNode, l2: ListNode) -> ListNode:\n",
        "    \n",
        "    cur1 = l1\n",
        "    cur2 = l2\n",
        "    carry = 0\n",
        "    \n",
        "    while True:\n",
        "\n",
        "      node = cur1.val + cur2.val + carry\n",
        "      carry = node // 10        \n",
        "      \n",
        "      try:\n",
        "        cur3_next.next = ListNode(node%10)\n",
        "        cur3_next = cur3_next.next\n",
        "      except:\n",
        "        cur3 = ListNode(node%10)\n",
        "        cur3_next = cur3\n",
        "      \n",
        "      if not cur1.next and not cur2.next:\n",
        "        break\n",
        "      if not cur2.next:\n",
        "        cur2.next = ListNode(0)\n",
        "      if not cur1.next:\n",
        "        cur1.next = ListNode(0)\n",
        "      \n",
        "      cur1, cur2 = cur1.next, cur2.next\n",
        "\n",
        "    if carry == 1:\n",
        "      cur3_next.next = ListNode(carry)\n",
        "    \n",
        "    return cur3\n"
      ],
      "execution_count": 0,
      "outputs": []
    }
  ]
}