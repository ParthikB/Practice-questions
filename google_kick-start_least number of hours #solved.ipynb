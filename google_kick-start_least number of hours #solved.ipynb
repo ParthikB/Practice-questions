{
 "cells": [
  {
   "cell_type": "code",
   "execution_count": 155,
   "metadata": {},
   "outputs": [],
   "source": [
    "def min_hours(arr, p, i):\n",
    "    import numpy as np\n",
    "    arr = np.array(sorted(arr))\n",
    "    diff = arr - arr.reshape(-1, 1)\n",
    "    positive_diff = np.where(diff<0, 0, diff)\n",
    "    solution = min(np.sum(positive_diff, axis=0)[p-1:])\n",
    "    \n",
    "    return f\"Case #{i}: {solution}\""
   ]
  },
  {
   "cell_type": "code",
   "execution_count": 135,
   "metadata": {},
   "outputs": [
    {
     "name": "stdout",
     "output_type": "stream",
     "text": [
      "3\n",
      "4 3\n",
      "5 1 9 100\n",
      "Case #1: 12\n",
      "5 5\n",
      "7 7 1 7 7\n",
      "Case #2: 6\n",
      "6 2\n",
      "5 5 1 2 3 4\n",
      "Case #3: 0\n"
     ]
    }
   ],
   "source": [
    "test_cases = int(input())\n",
    "\n",
    "for i in range(test_cases):\n",
    "    \n",
    "    np = input().split()\n",
    "    n, p = int(np[0]), int(np[1])\n",
    "\n",
    "    arr = list(map(int, input().rstrip().split()))\n",
    "    \n",
    "    print(min_hours(arr, p, i+1))\n",
    "    "
   ]
  },
  {
   "cell_type": "code",
   "execution_count": 156,
   "metadata": {},
   "outputs": [
    {
     "data": {
      "text/plain": [
       "'Case #0: 11'"
      ]
     },
     "execution_count": 156,
     "metadata": {},
     "output_type": "execute_result"
    }
   ],
   "source": [
    "min_hours([2, 2, 6, 5, 4, 7, 20], 5, 0)"
   ]
  },
  {
   "cell_type": "code",
   "execution_count": 149,
   "metadata": {},
   "outputs": [],
   "source": [
    "a = [2, 2, 6, 5, 4, 7, 20, 1, 2]"
   ]
  },
  {
   "cell_type": "code",
   "execution_count": 145,
   "metadata": {},
   "outputs": [],
   "source": [
    "a.sort()"
   ]
  },
  {
   "cell_type": "code",
   "execution_count": 154,
   "metadata": {},
   "outputs": [
    {
     "data": {
      "text/plain": [
       "[2, 2, 6, 5, 4, 7, 20, 1, 2]"
      ]
     },
     "execution_count": 154,
     "metadata": {},
     "output_type": "execute_result"
    }
   ],
   "source": [
    "a"
   ]
  },
  {
   "cell_type": "code",
   "execution_count": 157,
   "metadata": {},
   "outputs": [
    {
     "data": {
      "text/plain": [
       "[1, 2, 2, 2, 4, 5, 6, 7, 20]"
      ]
     },
     "execution_count": 157,
     "metadata": {},
     "output_type": "execute_result"
    }
   ],
   "source": [
    "sorted(a)"
   ]
  },
  {
   "cell_type": "code",
   "execution_count": 166,
   "metadata": {},
   "outputs": [],
   "source": [
    "import numpy as np\n",
    "aa = np.array([a, a])"
   ]
  },
  {
   "cell_type": "code",
   "execution_count": 168,
   "metadata": {},
   "outputs": [
    {
     "data": {
      "text/plain": [
       "array([[ 2,  2,  6,  5,  4,  7, 20,  1,  2],\n",
       "       [ 2,  2,  6,  5,  4,  7, 20,  1,  2]])"
      ]
     },
     "execution_count": 168,
     "metadata": {},
     "output_type": "execute_result"
    }
   ],
   "source": [
    "aa"
   ]
  },
  {
   "cell_type": "code",
   "execution_count": 171,
   "metadata": {},
   "outputs": [
    {
     "data": {
      "text/plain": [
       "array([[0.0780017 , 0.72632627, 0.85809022, 0.19405732, 0.41407623,\n",
       "        0.64498882, 0.25408059, 0.94408642, 0.70314987],\n",
       "       [0.16298944, 0.30025701, 0.28965404, 0.38302879, 0.21337004,\n",
       "        0.51646128, 0.71126271, 0.01973589, 0.09924521]])"
      ]
     },
     "execution_count": 171,
     "metadata": {},
     "output_type": "execute_result"
    }
   ],
   "source": [
    "bb = np.random.rand(aa.shape[0], aa.shape[1])\n",
    "bb"
   ]
  },
  {
   "cell_type": "code",
   "execution_count": 176,
   "metadata": {},
   "outputs": [
    {
     "data": {
      "text/plain": [
       "array([[ 0.,  4., 12.,  0.,  0., 14.,  0.,  2.,  4.],\n",
       "       [ 0.,  0.,  0.,  0.,  0., 14., 40.,  0.,  0.]])"
      ]
     },
     "execution_count": 176,
     "metadata": {},
     "output_type": "execute_result"
    }
   ],
   "source": [
    "np.divide(np.multiply(aa,(bb > 0.5)), 0.5)"
   ]
  }
 ],
 "metadata": {
  "kernelspec": {
   "display_name": "Python 3",
   "language": "python",
   "name": "python3"
  },
  "language_info": {
   "codemirror_mode": {
    "name": "ipython",
    "version": 3
   },
   "file_extension": ".py",
   "mimetype": "text/x-python",
   "name": "python",
   "nbconvert_exporter": "python",
   "pygments_lexer": "ipython3",
   "version": "3.7.3"
  }
 },
 "nbformat": 4,
 "nbformat_minor": 2
}
