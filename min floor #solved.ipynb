{
 "cells": [
  {
   "cell_type": "code",
   "execution_count": 5,
   "metadata": {},
   "outputs": [],
   "source": [
    "def min_floor(total_floors, _type):\n",
    "    \n",
    "    import numpy as np     \n",
    "    def recurse(floors, last_level, steps, bulb):\n",
    "        block = (floors-last_level) // 10\n",
    "        print()\n",
    "\n",
    "        for floor in range(last_level+block, last_level + floors+1, block):\n",
    "            print(\"Floor :\",floor)\n",
    "            \n",
    "            steps += 1\n",
    " \n",
    "            if floor == solution:\n",
    "                print(f\"************** Minimum floor found : {floor} || Total steps : {steps} **************\")\n",
    "                break\n",
    "                \n",
    "            if floor > solution:\n",
    "                bulb -= 1\n",
    "                last_level = (floor - block)\n",
    "                print(f\"---- Bulb broke at floor {floor} || Remaining bulbs : {bulb} || Steps till now : {steps}----\")\n",
    "                recurse(floor, last_level, steps, bulb)\n",
    "                break\n",
    "                \n",
    "                \n",
    "    if _type == 'r':\n",
    "        solution = np.random.randint(1, total_floors+1)\n",
    "    elif _type == 'm':\n",
    "        solution = int(input(\"Enter the minimum floor : \"))\n",
    "    else:\n",
    "        return (\"Invalid type. Select (r)andom/(m)anual.\")\n",
    "        \n",
    "    if solution:\n",
    "        print(f\"************** Minimum floor selected : {solution} **************\")\n",
    "\n",
    "        recurse(total_floors, last_level=0, steps=0, bulb=3)"
   ]
  },
  {
   "cell_type": "markdown",
   "metadata": {},
   "source": [
    "##### enter 'r'/'m' to select the minimum floor randomly/manualy respectively."
   ]
  },
  {
   "cell_type": "code",
   "execution_count": 7,
   "metadata": {},
   "outputs": [
    {
     "name": "stdout",
     "output_type": "stream",
     "text": [
      "************** Minimum floor selected : 674838 **************\n",
      "\n",
      "Floor : 100000\n",
      "Floor : 200000\n",
      "Floor : 300000\n",
      "Floor : 400000\n",
      "Floor : 500000\n",
      "Floor : 600000\n",
      "Floor : 700000\n",
      "---- Bulb broke at floor 700000 || Remaining bulbs : 2 || Steps till now : 7----\n",
      "\n",
      "Floor : 610000\n",
      "Floor : 620000\n",
      "Floor : 630000\n",
      "Floor : 640000\n",
      "Floor : 650000\n",
      "Floor : 660000\n",
      "Floor : 670000\n",
      "Floor : 680000\n",
      "---- Bulb broke at floor 680000 || Remaining bulbs : 1 || Steps till now : 15----\n",
      "\n",
      "Floor : 671000\n",
      "Floor : 672000\n",
      "Floor : 673000\n",
      "Floor : 674000\n",
      "Floor : 675000\n",
      "---- Bulb broke at floor 675000 || Remaining bulbs : 0 || Steps till now : 20----\n",
      "\n",
      "Floor : 674100\n",
      "Floor : 674200\n",
      "Floor : 674300\n",
      "Floor : 674400\n",
      "Floor : 674500\n",
      "Floor : 674600\n",
      "Floor : 674700\n",
      "Floor : 674800\n",
      "Floor : 674900\n",
      "---- Bulb broke at floor 674900 || Remaining bulbs : -1 || Steps till now : 29----\n",
      "\n",
      "Floor : 674810\n",
      "Floor : 674820\n",
      "Floor : 674830\n",
      "Floor : 674840\n",
      "---- Bulb broke at floor 674840 || Remaining bulbs : -2 || Steps till now : 33----\n",
      "\n",
      "Floor : 674831\n",
      "Floor : 674832\n",
      "Floor : 674833\n",
      "Floor : 674834\n",
      "Floor : 674835\n",
      "Floor : 674836\n",
      "Floor : 674837\n",
      "Floor : 674838\n",
      "************** Minimum floor found : 674838 || Total steps : 41 **************\n"
     ]
    }
   ],
   "source": [
    "min_floor(1000000, 'r')"
   ]
  },
  {
   "cell_type": "code",
   "execution_count": null,
   "metadata": {},
   "outputs": [],
   "source": []
  }
 ],
 "metadata": {
  "kernelspec": {
   "display_name": "Python 3",
   "language": "python",
   "name": "python3"
  },
  "language_info": {
   "codemirror_mode": {
    "name": "ipython",
    "version": 3
   },
   "file_extension": ".py",
   "mimetype": "text/x-python",
   "name": "python",
   "nbconvert_exporter": "python",
   "pygments_lexer": "ipython3",
   "version": "3.7.3"
  }
 },
 "nbformat": 4,
 "nbformat_minor": 2
}
