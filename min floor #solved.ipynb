{
 "cells": [
  {
   "cell_type": "code",
   "execution_count": 149,
   "metadata": {},
   "outputs": [],
   "source": [
    "def min_floor(total_floors, _type):\n",
    "    \n",
    "    import numpy as np     \n",
    "    def recurse(floors, last_level, steps, bulb):\n",
    "        block = (floors-last_level) // 10\n",
    "        print()\n",
    "\n",
    "        for floor in range(last_level+block, last_level + floors+1, block):\n",
    "            print(\"Floor :\",floor)\n",
    "            \n",
    "            steps += 1\n",
    " \n",
    "            if floor == solution:\n",
    "                print(f\"************** Minimum floor found : {floor} || Total steps : {steps} **************\")\n",
    "                break\n",
    "                \n",
    "            if floor > solution:\n",
    "                bulb -= 1\n",
    "                last_level = (floor - block)\n",
    "                print(f\"---- Bulb broke at floor {floor} || Remaining bulbs : {bulb} || Steps till now : {steps}----\")\n",
    "                recurse(floor, last_level, steps, bulb)\n",
    "                break\n",
    "                \n",
    "                \n",
    "    if _type == 'r':\n",
    "        solution = np.random.randint(1, 1001)\n",
    "    elif _type == 'm':\n",
    "        solution = int(input(\"Enter the minimum floor : \"))\n",
    "    else:\n",
    "        return (\"Invalid type. Select (r)andom/(m)anual.\")\n",
    "        \n",
    "    if solution:\n",
    "        print(f\"************** Minimum floor selected : {solution} **************\")\n",
    "\n",
    "        recurse(total_floors, last_level=0, steps=0, bulb=3)"
   ]
  },
  {
   "cell_type": "markdown",
   "metadata": {},
   "source": [
    "##### enter 'r'/'m' to select the minimum floor randomly/manualy respectively."
   ]
  },
  {
   "cell_type": "code",
   "execution_count": 150,
   "metadata": {},
   "outputs": [
    {
     "name": "stdout",
     "output_type": "stream",
     "text": [
      "************** Minimum floor selected : 530 **************\n",
      "\n",
      "Floor : 100\n",
      "Floor : 200\n",
      "Floor : 300\n",
      "Floor : 400\n",
      "Floor : 500\n",
      "Floor : 600\n",
      "---- Bulb broke at floor 600 || Remaining bulbs : 2 || Steps till now : 6----\n",
      "\n",
      "Floor : 510\n",
      "Floor : 520\n",
      "Floor : 530\n",
      "************** Minimum floor found : 530 || Total steps : 9 **************\n"
     ]
    }
   ],
   "source": [
    "min_floor(1000, 'r')"
   ]
  },
  {
   "cell_type": "code",
   "execution_count": null,
   "metadata": {},
   "outputs": [],
   "source": []
  }
 ],
 "metadata": {
  "kernelspec": {
   "display_name": "Python 3",
   "language": "python",
   "name": "python3"
  },
  "language_info": {
   "codemirror_mode": {
    "name": "ipython",
    "version": 3
   },
   "file_extension": ".py",
   "mimetype": "text/x-python",
   "name": "python",
   "nbconvert_exporter": "python",
   "pygments_lexer": "ipython3",
   "version": "3.7.3"
  }
 },
 "nbformat": 4,
 "nbformat_minor": 2
}
