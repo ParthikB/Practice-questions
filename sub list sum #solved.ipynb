{
 "cells": [
  {
   "cell_type": "code",
   "execution_count": 84,
   "metadata": {},
   "outputs": [],
   "source": [
    "def solve(arr, k):\n",
    "    master = []\n",
    "    for i in arr:\n",
    "        if sum(master) > k:\n",
    "            master = master[1:]\n",
    "        if sum(master) == k:\n",
    "            return master\n",
    "        master.append(i)\n",
    "\n",
    "    while sum(master) > k:\n",
    "        master = master[1:]\n",
    "        \n",
    "    return master if sum(master) == k else False\n",
    "        \n",
    "        \n"
   ]
  },
  {
   "cell_type": "code",
   "execution_count": 85,
   "metadata": {},
   "outputs": [],
   "source": [
    "arr = [1, 2, 3, 4, 5, 7, 8, 9, 1,32, 5, 6, 223]\n",
    "k = 229"
   ]
  },
  {
   "cell_type": "code",
   "execution_count": 86,
   "metadata": {},
   "outputs": [
    {
     "data": {
      "text/plain": [
       "[6, 223]"
      ]
     },
     "execution_count": 86,
     "metadata": {},
     "output_type": "execute_result"
    }
   ],
   "source": [
    "solve(arr, k)"
   ]
  },
  {
   "cell_type": "code",
   "execution_count": null,
   "metadata": {},
   "outputs": [],
   "source": []
  }
 ],
 "metadata": {
  "kernelspec": {
   "display_name": "Python 3",
   "language": "python",
   "name": "python3"
  },
  "language_info": {
   "codemirror_mode": {
    "name": "ipython",
    "version": 3
   },
   "file_extension": ".py",
   "mimetype": "text/x-python",
   "name": "python",
   "nbconvert_exporter": "python",
   "pygments_lexer": "ipython3",
   "version": "3.7.3"
  }
 },
 "nbformat": 4,
 "nbformat_minor": 2
}
