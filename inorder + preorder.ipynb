{
 "cells": [
  {
   "cell_type": "code",
   "execution_count": 9,
   "metadata": {},
   "outputs": [],
   "source": [
    "class Node:\n",
    "    def __init__(self, val):\n",
    "        self.val   = val\n",
    "        self.left  = None\n",
    "        self.right = None\n",
    "        \n",
    "class BinaryTree:\n",
    "    def __init__(self, root=None):\n",
    "        self.root = root\n",
    "        \n",
    "    \n",
    "    master = \"\"        \n",
    "    def print_tree(self):\n",
    "        if self.root:\n",
    "            master = self._print_tree(self.root)\n",
    "            return master\n",
    "\n",
    "    def _print_tree(self, cur):\n",
    "        if cur != None:\n",
    "            self.master += str(cur.val) + \"-\"\n",
    "            self._print_tree(cur.left)\n",
    "            self._print_tree(cur.right)\n",
    "        return (self.master[:-1]) #scraping the last dash (-)\n",
    "    "
   ]
  },
  {
   "cell_type": "code",
   "execution_count": 79,
   "metadata": {},
   "outputs": [],
   "source": [
    "def return_root(pre, child):\n",
    "    min_ = len(pre)-1\n",
    "    for i in child:\n",
    "        if pre.index(i) < min_:\n",
    "            min_ = pre.index(i)\n",
    "            root = i\n",
    "            \n",
    "    return child.index(root)"
   ]
  },
  {
   "cell_type": "code",
   "execution_count": 29,
   "metadata": {},
   "outputs": [
    {
     "data": {
      "text/plain": [
       "'a-b-c'"
      ]
     },
     "execution_count": 29,
     "metadata": {},
     "output_type": "execute_result"
    }
   ],
   "source": [
    "bst = BinaryTree()\n",
    "\n",
    "root = pre_order[0]\n",
    "bst.root = Node(root)\n",
    "\n",
    "left, right = in_order[:in_order.index(root)], in_order[in_order.index(root)+1 :]\n",
    "\n",
    "l_root = return_root(pre_order, left) #left root\n",
    "bst.root.left = Node(pre_order[l_root])\n",
    "\n",
    "r_root = return_root(pre_order, right) #right root\n",
    "bst.root.right = Node(pre_order[r_root])\n",
    "\n",
    "\n",
    "\n",
    "bst.print_tree()"
   ]
  },
  {
   "cell_type": "code",
   "execution_count": 105,
   "metadata": {},
   "outputs": [],
   "source": [
    "def make_tree(_pre, _in):\n",
    "    cur = BinaryTree()\n",
    "    root = return_root(_pre, _in)\n",
    "    cur.root = Node(_in[root])\n",
    "    print(cur.print_tree())\n",
    "    left, right = _in[:root], _in[root+1:]\n",
    "    print(left, right)\n",
    "    _make_tree(_pre, left, cur.root, \"left\")\n",
    "    _make_tree(_pre, right, cur.root, \"right\")\n",
    "\n",
    "    print(\"Final :\", cur.print_tree())\n",
    "    \n",
    "def _make_tree(_pre, arr, cur, child):\n",
    "    if len(arr) == 1:\n",
    "        if child == 'left':\n",
    "            cur = Node(arr[0])\n",
    "        else:\n",
    "            cur = Node(arr[0])\n",
    "        return True\n",
    "    \n",
    "    root = return_root(_pre, arr)\n",
    "\n",
    "    if child == 'left':\n",
    "        cur.left = Node(_pre[root])\n",
    "    else:\n",
    "        cur.right = Node(_pre[root])\n",
    "        \n",
    "    left, right = arr[:root], arr[root+1:]\n",
    "    print(arr, cur.val, child, left, arr[root], right)\n",
    "\n",
    "    _make_tree(_pre, left, cur.left, \"left\")\n",
    "    _make_tree(_pre, left, cur.right, \"right\")    "
   ]
  },
  {
   "cell_type": "code",
   "execution_count": 106,
   "metadata": {},
   "outputs": [],
   "source": [
    "pre_order = ['a', 'b', 'd', 'e', 'c', 'f', 'g']\n",
    "in_order  = ['d', 'b', 'e', 'a', 'f', 'c', 'g']"
   ]
  },
  {
   "cell_type": "code",
   "execution_count": 107,
   "metadata": {},
   "outputs": [
    {
     "name": "stdout",
     "output_type": "stream",
     "text": [
      "a\n",
      "['d', 'b', 'e'] ['f', 'c', 'g']\n"
     ]
    },
    {
     "ename": "AttributeError",
     "evalue": "type object 'BinaryTree' has no attribute 'root'",
     "output_type": "error",
     "traceback": [
      "\u001b[1;31m---------------------------------------------------------------------------\u001b[0m",
      "\u001b[1;31mAttributeError\u001b[0m                            Traceback (most recent call last)",
      "\u001b[1;32m<ipython-input-107-d9524f66d07a>\u001b[0m in \u001b[0;36m<module>\u001b[1;34m\u001b[0m\n\u001b[1;32m----> 1\u001b[1;33m \u001b[0mmake_tree\u001b[0m\u001b[1;33m(\u001b[0m\u001b[0mpre_order\u001b[0m\u001b[1;33m,\u001b[0m \u001b[0min_order\u001b[0m\u001b[1;33m)\u001b[0m\u001b[1;33m\u001b[0m\u001b[1;33m\u001b[0m\u001b[0m\n\u001b[0m",
      "\u001b[1;32m<ipython-input-105-5522acb828b8>\u001b[0m in \u001b[0;36mmake_tree\u001b[1;34m(_pre, _in)\u001b[0m\n\u001b[0;32m      6\u001b[0m     \u001b[0mleft\u001b[0m\u001b[1;33m,\u001b[0m \u001b[0mright\u001b[0m \u001b[1;33m=\u001b[0m \u001b[0m_in\u001b[0m\u001b[1;33m[\u001b[0m\u001b[1;33m:\u001b[0m\u001b[0mroot\u001b[0m\u001b[1;33m]\u001b[0m\u001b[1;33m,\u001b[0m \u001b[0m_in\u001b[0m\u001b[1;33m[\u001b[0m\u001b[0mroot\u001b[0m\u001b[1;33m+\u001b[0m\u001b[1;36m1\u001b[0m\u001b[1;33m:\u001b[0m\u001b[1;33m]\u001b[0m\u001b[1;33m\u001b[0m\u001b[1;33m\u001b[0m\u001b[0m\n\u001b[0;32m      7\u001b[0m     \u001b[0mprint\u001b[0m\u001b[1;33m(\u001b[0m\u001b[0mleft\u001b[0m\u001b[1;33m,\u001b[0m \u001b[0mright\u001b[0m\u001b[1;33m)\u001b[0m\u001b[1;33m\u001b[0m\u001b[1;33m\u001b[0m\u001b[0m\n\u001b[1;32m----> 8\u001b[1;33m     \u001b[0mprint\u001b[0m\u001b[1;33m(\u001b[0m\u001b[0mBinaryTree\u001b[0m\u001b[1;33m.\u001b[0m\u001b[0mroot\u001b[0m\u001b[1;33m.\u001b[0m\u001b[0mval\u001b[0m\u001b[1;33m)\u001b[0m\u001b[1;33m\u001b[0m\u001b[1;33m\u001b[0m\u001b[0m\n\u001b[0m\u001b[0;32m      9\u001b[0m     \u001b[0m_make_tree\u001b[0m\u001b[1;33m(\u001b[0m\u001b[0m_pre\u001b[0m\u001b[1;33m,\u001b[0m \u001b[0mleft\u001b[0m\u001b[1;33m,\u001b[0m \u001b[0mcur\u001b[0m\u001b[1;33m.\u001b[0m\u001b[0mroot\u001b[0m\u001b[1;33m,\u001b[0m \u001b[1;34m\"left\"\u001b[0m\u001b[1;33m)\u001b[0m\u001b[1;33m\u001b[0m\u001b[1;33m\u001b[0m\u001b[0m\n\u001b[0;32m     10\u001b[0m     \u001b[0m_make_tree\u001b[0m\u001b[1;33m(\u001b[0m\u001b[0m_pre\u001b[0m\u001b[1;33m,\u001b[0m \u001b[0mright\u001b[0m\u001b[1;33m,\u001b[0m \u001b[0mcur\u001b[0m\u001b[1;33m.\u001b[0m\u001b[0mroot\u001b[0m\u001b[1;33m,\u001b[0m \u001b[1;34m\"right\"\u001b[0m\u001b[1;33m)\u001b[0m\u001b[1;33m\u001b[0m\u001b[1;33m\u001b[0m\u001b[0m\n",
      "\u001b[1;31mAttributeError\u001b[0m: type object 'BinaryTree' has no attribute 'root'"
     ]
    }
   ],
   "source": [
    "make_tree(pre_order, in_order)"
   ]
  },
  {
   "cell_type": "code",
   "execution_count": null,
   "metadata": {},
   "outputs": [],
   "source": []
  }
 ],
 "metadata": {
  "kernelspec": {
   "display_name": "Python 3",
   "language": "python",
   "name": "python3"
  },
  "language_info": {
   "codemirror_mode": {
    "name": "ipython",
    "version": 3
   },
   "file_extension": ".py",
   "mimetype": "text/x-python",
   "name": "python",
   "nbconvert_exporter": "python",
   "pygments_lexer": "ipython3",
   "version": "3.7.3"
  }
 },
 "nbformat": 4,
 "nbformat_minor": 2
}
