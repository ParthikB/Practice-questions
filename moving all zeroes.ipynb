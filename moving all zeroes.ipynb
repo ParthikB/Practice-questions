{
 "cells": [
  {
   "cell_type": "code",
   "execution_count": 9,
   "metadata": {},
   "outputs": [],
   "source": [
    "def sort(l):\n",
    "    print()\n",
    "    if len(l) < 2: return True\n",
    "#     print('recursing')\n",
    "    print(l)\n",
    "    for i in range(len(l)-1)[::-1]:\n",
    "#         print(i, l[i], 'last : ', l[-1])\n",
    "        if l[i] == 0 and l[i+1] != 0:\n",
    "#             print('swapping')\n",
    "            l[i], l[i+1] = l[i+1], l[i]\n",
    "#             print(l)\n",
    "            sort(l[i+1:])\n",
    "    return l"
   ]
  },
  {
   "cell_type": "code",
   "execution_count": 10,
   "metadata": {},
   "outputs": [
    {
     "name": "stdout",
     "output_type": "stream",
     "text": [
      "\n",
      "[0, 1, 0, 3, 12]\n",
      "\n",
      "[0, 12]\n",
      "\n",
      "\n",
      "[0, 3, 0, 12]\n",
      "\n",
      "\n",
      "[0, 12, 0]\n",
      "\n",
      "[0, 0]\n"
     ]
    },
    {
     "data": {
      "text/plain": [
       "[1, 0, 3, 0, 12]"
      ]
     },
     "execution_count": 10,
     "metadata": {},
     "output_type": "execute_result"
    }
   ],
   "source": [
    "arr = [0, 1, 0, 3, 12]\n",
    "\n",
    "sort(arr)"
   ]
  },
  {
   "cell_type": "code",
   "execution_count": 5,
   "metadata": {},
   "outputs": [
    {
     "name": "stdout",
     "output_type": "stream",
     "text": [
      "3\n",
      "2\n",
      "1\n",
      "0\n"
     ]
    }
   ],
   "source": [
    "for i in range(4)[::-1]:\n",
    "    print(i)"
   ]
  },
  {
   "cell_type": "code",
   "execution_count": null,
   "metadata": {},
   "outputs": [],
   "source": []
  }
 ],
 "metadata": {
  "kernelspec": {
   "display_name": "Python 3",
   "language": "python",
   "name": "python3"
  },
  "language_info": {
   "codemirror_mode": {
    "name": "ipython",
    "version": 3
   },
   "file_extension": ".py",
   "mimetype": "text/x-python",
   "name": "python",
   "nbconvert_exporter": "python",
   "pygments_lexer": "ipython3",
   "version": "3.7.3"
  }
 },
 "nbformat": 4,
 "nbformat_minor": 2
}
