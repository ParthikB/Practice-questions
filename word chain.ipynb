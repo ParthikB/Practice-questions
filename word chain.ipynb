{
  "nbformat": 4,
  "nbformat_minor": 0,
  "metadata": {
    "colab": {
      "name": "word chain",
      "provenance": [],
      "include_colab_link": true
    },
    "kernelspec": {
      "name": "python3",
      "display_name": "Python 3"
    }
  },
  "cells": [
    {
      "cell_type": "markdown",
      "metadata": {
        "id": "view-in-github",
        "colab_type": "text"
      },
      "source": [
        "<a href=\"https://colab.research.google.com/github/ParthikB/Practice-questions/blob/master/word%20chain.ipynb\" target=\"_parent\"><img src=\"https://colab.research.google.com/assets/colab-badge.svg\" alt=\"Open In Colab\"/></a>"
      ]
    },
    {
      "cell_type": "code",
      "metadata": {
        "id": "xxbPIYMyPAnH",
        "colab_type": "code",
        "colab": {}
      },
      "source": [
        "def isChain(words):\n",
        "  \n",
        "  master = {}\n",
        "  for word in words:\n",
        "    master[word[0]] = word  \n",
        "  \n",
        "  cur = words[0]\n",
        "  \n",
        "  for i in range(len(words)-1):\n",
        "    try:\n",
        "      cur = master[cur[-1]]\n",
        "    except:\n",
        "      return False\n",
        "  \n",
        "  return True"
      ],
      "execution_count": 0,
      "outputs": []
    },
    {
      "cell_type": "code",
      "metadata": {
        "id": "NnPeuR_APeuj",
        "colab_type": "code",
        "colab": {
          "base_uri": "https://localhost:8080/",
          "height": 34
        },
        "outputId": "8b079364-d643-4fba-cbaa-0efac1f3fd0c"
      },
      "source": [
        "words = ['apple', 'elephant', 'tag', 'grapes', 'soap']\n",
        "\n",
        "isChain(words)"
      ],
      "execution_count": 20,
      "outputs": [
        {
          "output_type": "execute_result",
          "data": {
            "text/plain": [
              "True"
            ]
          },
          "metadata": {
            "tags": []
          },
          "execution_count": 20
        }
      ]
    },
    {
      "cell_type": "code",
      "metadata": {
        "id": "LbGTMbZeQJve",
        "colab_type": "code",
        "colab": {}
      },
      "source": [
        ""
      ],
      "execution_count": 0,
      "outputs": []
    }
  ]
}